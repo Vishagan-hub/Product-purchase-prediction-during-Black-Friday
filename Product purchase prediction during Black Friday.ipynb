{
 "cells": [
  {
   "cell_type": "code",
   "execution_count": 1,
   "metadata": {
    "id": "Xm0HsW0zhNzP"
   },
   "outputs": [],
   "source": [
    "import pandas as pd\n",
    "import numpy as np\n",
    "import time\n",
    "import seaborn as sns\n",
    "\n",
    "import matplotlib.pyplot as plt\n",
    "%matplotlib inline\n",
    "\n",
    "import warnings\n",
    "warnings.filterwarnings('ignore')\n",
    "\n",
    "from sklearn.preprocessing import LabelEncoder\n",
    "from sklearn.preprocessing import MinMaxScaler,StandardScaler\n",
    "\n",
    "from sklearn.ensemble import ExtraTreesRegressor\n",
    "\n",
    "from sklearn.model_selection import train_test_split\n",
    "\n",
    "from sklearn.linear_model import LinearRegression\n",
    "from sklearn.tree import DecisionTreeRegressor\n",
    "from sklearn.ensemble import AdaBoostRegressor, RandomForestRegressor, GradientBoostingRegressor\n",
    "from xgboost import XGBRegressor\n",
    "\n",
    "from sklearn.metrics import mean_squared_error, r2_score"
   ]
  },
  {
   "cell_type": "code",
   "execution_count": 2,
   "metadata": {
    "colab": {
     "base_uri": "https://localhost:8080/",
     "height": 295
    },
    "id": "XJ5ZF-v7jSn5",
    "outputId": "ae8612b9-7125-41ac-c3c5-f7197220fe1f"
   },
   "outputs": [
    {
     "data": {
      "text/html": [
       "<div>\n",
       "<style scoped>\n",
       "    .dataframe tbody tr th:only-of-type {\n",
       "        vertical-align: middle;\n",
       "    }\n",
       "\n",
       "    .dataframe tbody tr th {\n",
       "        vertical-align: top;\n",
       "    }\n",
       "\n",
       "    .dataframe thead th {\n",
       "        text-align: right;\n",
       "    }\n",
       "</style>\n",
       "<table border=\"1\" class=\"dataframe\">\n",
       "  <thead>\n",
       "    <tr style=\"text-align: right;\">\n",
       "      <th></th>\n",
       "      <th>User_ID</th>\n",
       "      <th>Product_ID</th>\n",
       "      <th>Gender</th>\n",
       "      <th>Age</th>\n",
       "      <th>Occupation</th>\n",
       "      <th>City_Category</th>\n",
       "      <th>Stay_In_Current_City_Years</th>\n",
       "      <th>Marital_Status</th>\n",
       "      <th>Product_Category_1</th>\n",
       "      <th>Product_Category_2</th>\n",
       "      <th>Product_Category_3</th>\n",
       "      <th>Purchase</th>\n",
       "    </tr>\n",
       "  </thead>\n",
       "  <tbody>\n",
       "    <tr>\n",
       "      <th>0</th>\n",
       "      <td>1000001</td>\n",
       "      <td>P00069042</td>\n",
       "      <td>F</td>\n",
       "      <td>0-17</td>\n",
       "      <td>10</td>\n",
       "      <td>A</td>\n",
       "      <td>2</td>\n",
       "      <td>0</td>\n",
       "      <td>3</td>\n",
       "      <td>NaN</td>\n",
       "      <td>NaN</td>\n",
       "      <td>8370</td>\n",
       "    </tr>\n",
       "    <tr>\n",
       "      <th>1</th>\n",
       "      <td>1000001</td>\n",
       "      <td>P00248942</td>\n",
       "      <td>F</td>\n",
       "      <td>0-17</td>\n",
       "      <td>10</td>\n",
       "      <td>A</td>\n",
       "      <td>2</td>\n",
       "      <td>0</td>\n",
       "      <td>1</td>\n",
       "      <td>6.0</td>\n",
       "      <td>14.0</td>\n",
       "      <td>15200</td>\n",
       "    </tr>\n",
       "    <tr>\n",
       "      <th>2</th>\n",
       "      <td>1000001</td>\n",
       "      <td>P00087842</td>\n",
       "      <td>F</td>\n",
       "      <td>0-17</td>\n",
       "      <td>10</td>\n",
       "      <td>A</td>\n",
       "      <td>2</td>\n",
       "      <td>0</td>\n",
       "      <td>12</td>\n",
       "      <td>NaN</td>\n",
       "      <td>NaN</td>\n",
       "      <td>1422</td>\n",
       "    </tr>\n",
       "    <tr>\n",
       "      <th>3</th>\n",
       "      <td>1000001</td>\n",
       "      <td>P00085442</td>\n",
       "      <td>F</td>\n",
       "      <td>0-17</td>\n",
       "      <td>10</td>\n",
       "      <td>A</td>\n",
       "      <td>2</td>\n",
       "      <td>0</td>\n",
       "      <td>12</td>\n",
       "      <td>14.0</td>\n",
       "      <td>NaN</td>\n",
       "      <td>1057</td>\n",
       "    </tr>\n",
       "    <tr>\n",
       "      <th>4</th>\n",
       "      <td>1000002</td>\n",
       "      <td>P00285442</td>\n",
       "      <td>M</td>\n",
       "      <td>55+</td>\n",
       "      <td>16</td>\n",
       "      <td>C</td>\n",
       "      <td>4+</td>\n",
       "      <td>0</td>\n",
       "      <td>8</td>\n",
       "      <td>NaN</td>\n",
       "      <td>NaN</td>\n",
       "      <td>7969</td>\n",
       "    </tr>\n",
       "  </tbody>\n",
       "</table>\n",
       "</div>"
      ],
      "text/plain": [
       "   User_ID Product_ID Gender   Age  Occupation City_Category  \\\n",
       "0  1000001  P00069042      F  0-17          10             A   \n",
       "1  1000001  P00248942      F  0-17          10             A   \n",
       "2  1000001  P00087842      F  0-17          10             A   \n",
       "3  1000001  P00085442      F  0-17          10             A   \n",
       "4  1000002  P00285442      M   55+          16             C   \n",
       "\n",
       "  Stay_In_Current_City_Years  Marital_Status  Product_Category_1  \\\n",
       "0                          2               0                   3   \n",
       "1                          2               0                   1   \n",
       "2                          2               0                  12   \n",
       "3                          2               0                  12   \n",
       "4                         4+               0                   8   \n",
       "\n",
       "   Product_Category_2  Product_Category_3  Purchase  \n",
       "0                 NaN                 NaN      8370  \n",
       "1                 6.0                14.0     15200  \n",
       "2                 NaN                 NaN      1422  \n",
       "3                14.0                 NaN      1057  \n",
       "4                 NaN                 NaN      7969  "
      ]
     },
     "execution_count": 2,
     "metadata": {},
     "output_type": "execute_result"
    }
   ],
   "source": [
    "df=pd.read_csv(r'C:\\Users\\VISHAGAN\\Downloads\\black_friday_dataset.csv')\n",
    "df.head()"
   ]
  },
  {
   "cell_type": "code",
   "execution_count": 3,
   "metadata": {
    "colab": {
     "base_uri": "https://localhost:8080/"
    },
    "id": "XwJMi3jGjnbs",
    "outputId": "b7a089f1-528e-409e-e1b1-b56563c1b50d"
   },
   "outputs": [
    {
     "name": "stdout",
     "output_type": "stream",
     "text": [
      "<class 'pandas.core.frame.DataFrame'>\n",
      "RangeIndex: 550068 entries, 0 to 550067\n",
      "Data columns (total 12 columns):\n",
      " #   Column                      Non-Null Count   Dtype  \n",
      "---  ------                      --------------   -----  \n",
      " 0   User_ID                     550068 non-null  int64  \n",
      " 1   Product_ID                  550068 non-null  object \n",
      " 2   Gender                      550068 non-null  object \n",
      " 3   Age                         550068 non-null  object \n",
      " 4   Occupation                  550068 non-null  int64  \n",
      " 5   City_Category               550068 non-null  object \n",
      " 6   Stay_In_Current_City_Years  550068 non-null  object \n",
      " 7   Marital_Status              550068 non-null  int64  \n",
      " 8   Product_Category_1          550068 non-null  int64  \n",
      " 9   Product_Category_2          376430 non-null  float64\n",
      " 10  Product_Category_3          166821 non-null  float64\n",
      " 11  Purchase                    550068 non-null  int64  \n",
      "dtypes: float64(2), int64(5), object(5)\n",
      "memory usage: 50.4+ MB\n"
     ]
    }
   ],
   "source": [
    "df.info()"
   ]
  },
  {
   "cell_type": "code",
   "execution_count": 4,
   "metadata": {
    "colab": {
     "base_uri": "https://localhost:8080/"
    },
    "id": "flBZYyNNCOfe",
    "outputId": "667a38ff-c04c-4269-b30a-a7b6960fb694"
   },
   "outputs": [
    {
     "data": {
      "text/plain": [
       "{'User_ID': 5891,\n",
       " 'Product_ID': 3631,\n",
       " 'Gender': 2,\n",
       " 'Age': 7,\n",
       " 'Occupation': 21,\n",
       " 'City_Category': 3,\n",
       " 'Stay_In_Current_City_Years': 5,\n",
       " 'Marital_Status': 2,\n",
       " 'Product_Category_1': 20,\n",
       " 'Product_Category_2': 17,\n",
       " 'Product_Category_3': 15,\n",
       " 'Purchase': 18105}"
      ]
     },
     "execution_count": 4,
     "metadata": {},
     "output_type": "execute_result"
    }
   ],
   "source": [
    "# unique values in each column\n",
    "d1={}\n",
    "for i in df.columns:\n",
    "    d1[i] = df[i].nunique()\n",
    "d1"
   ]
  },
  {
   "cell_type": "markdown",
   "metadata": {
    "id": "tHO4_9IlNi4i"
   },
   "source": [
    "# Data cleaning and preprocessing"
   ]
  },
  {
   "cell_type": "markdown",
   "metadata": {
    "id": "yn1yaWUyKx_M"
   },
   "source": [
    "## Gender column"
   ]
  },
  {
   "cell_type": "code",
   "execution_count": 5,
   "metadata": {
    "id": "GrJcCd7PLqL6"
   },
   "outputs": [],
   "source": [
    "# performed label encoding\n",
    "gender = {\"F\" : 0, \"M\" : 1}\n",
    "df['gender'] = df['Gender'].map(gender)"
   ]
  },
  {
   "cell_type": "markdown",
   "metadata": {
    "id": "826evU-8K0yz"
   },
   "source": [
    "## Age column"
   ]
  },
  {
   "cell_type": "code",
   "execution_count": 6,
   "metadata": {
    "id": "Llw1WflnK4qa"
   },
   "outputs": [],
   "source": [
    "# performed label encoding\n",
    "age={\n",
    "               '0-17':1,\n",
    "               '18-25':2,\n",
    "               '26-35':3,\n",
    "               '36-45':4,\n",
    "               '46-50':5,\n",
    "               '51-55':6,\n",
    "               '55+':7\n",
    "    }"
   ]
  },
  {
   "cell_type": "code",
   "execution_count": 7,
   "metadata": {
    "id": "e3HT4hwejLmr"
   },
   "outputs": [],
   "source": [
    "df['age']=df['Age'].map(age)"
   ]
  },
  {
   "cell_type": "markdown",
   "metadata": {
    "id": "MKfvdy7YLDu2"
   },
   "source": [
    "## City_Category column"
   ]
  },
  {
   "cell_type": "code",
   "execution_count": 8,
   "metadata": {
    "id": "cjvohFcr0ofY"
   },
   "outputs": [],
   "source": [
    "# performed label encoding\n",
    "city = {\n",
    "    \"A\" : 1,\n",
    "    \"B\" : 2,\n",
    "    \"c\" : 3\n",
    "}"
   ]
  },
  {
   "cell_type": "code",
   "execution_count": 9,
   "metadata": {
    "id": "Kh20k0E10-GQ"
   },
   "outputs": [],
   "source": [
    "df['City_Category'] = df['City_Category'].map(city)"
   ]
  },
  {
   "cell_type": "markdown",
   "metadata": {
    "id": "OE8ndc1LLL1B"
   },
   "source": [
    "## Stay_In_Current_City_Years column"
   ]
  },
  {
   "cell_type": "code",
   "execution_count": 10,
   "metadata": {
    "id": "75Q7HUSSLLYK"
   },
   "outputs": [],
   "source": [
    "# perfromed label encoding and renaming of the column\n",
    "dict_1 = {\n",
    "            '0':0,\n",
    "            '1':1,\n",
    "            '2':2,\n",
    "            '3':3,\n",
    "            '4+':4\n",
    "          }\n",
    "\n",
    "df['city_residency_duration']=df['Stay_In_Current_City_Years'].map(dict_1)\n",
    "\n",
    "df.drop(['Age','City_Category','Stay_In_Current_City_Years','Gender'],axis=1,inplace=True)"
   ]
  },
  {
   "cell_type": "code",
   "execution_count": 11,
   "metadata": {
    "colab": {
     "base_uri": "https://localhost:8080/",
     "height": 226
    },
    "id": "ewPtgqs9L__e",
    "outputId": "10afc31c-6494-4f9a-b0dc-05b3a3b884b1"
   },
   "outputs": [
    {
     "data": {
      "text/html": [
       "<div>\n",
       "<style scoped>\n",
       "    .dataframe tbody tr th:only-of-type {\n",
       "        vertical-align: middle;\n",
       "    }\n",
       "\n",
       "    .dataframe tbody tr th {\n",
       "        vertical-align: top;\n",
       "    }\n",
       "\n",
       "    .dataframe thead th {\n",
       "        text-align: right;\n",
       "    }\n",
       "</style>\n",
       "<table border=\"1\" class=\"dataframe\">\n",
       "  <thead>\n",
       "    <tr style=\"text-align: right;\">\n",
       "      <th></th>\n",
       "      <th>User_ID</th>\n",
       "      <th>Product_ID</th>\n",
       "      <th>Occupation</th>\n",
       "      <th>Marital_Status</th>\n",
       "      <th>Product_Category_1</th>\n",
       "      <th>Product_Category_2</th>\n",
       "      <th>Product_Category_3</th>\n",
       "      <th>Purchase</th>\n",
       "      <th>gender</th>\n",
       "      <th>age</th>\n",
       "      <th>city_residency_duration</th>\n",
       "    </tr>\n",
       "  </thead>\n",
       "  <tbody>\n",
       "    <tr>\n",
       "      <th>0</th>\n",
       "      <td>1000001</td>\n",
       "      <td>P00069042</td>\n",
       "      <td>10</td>\n",
       "      <td>0</td>\n",
       "      <td>3</td>\n",
       "      <td>NaN</td>\n",
       "      <td>NaN</td>\n",
       "      <td>8370</td>\n",
       "      <td>0</td>\n",
       "      <td>1</td>\n",
       "      <td>2</td>\n",
       "    </tr>\n",
       "    <tr>\n",
       "      <th>1</th>\n",
       "      <td>1000001</td>\n",
       "      <td>P00248942</td>\n",
       "      <td>10</td>\n",
       "      <td>0</td>\n",
       "      <td>1</td>\n",
       "      <td>6.0</td>\n",
       "      <td>14.0</td>\n",
       "      <td>15200</td>\n",
       "      <td>0</td>\n",
       "      <td>1</td>\n",
       "      <td>2</td>\n",
       "    </tr>\n",
       "    <tr>\n",
       "      <th>2</th>\n",
       "      <td>1000001</td>\n",
       "      <td>P00087842</td>\n",
       "      <td>10</td>\n",
       "      <td>0</td>\n",
       "      <td>12</td>\n",
       "      <td>NaN</td>\n",
       "      <td>NaN</td>\n",
       "      <td>1422</td>\n",
       "      <td>0</td>\n",
       "      <td>1</td>\n",
       "      <td>2</td>\n",
       "    </tr>\n",
       "    <tr>\n",
       "      <th>3</th>\n",
       "      <td>1000001</td>\n",
       "      <td>P00085442</td>\n",
       "      <td>10</td>\n",
       "      <td>0</td>\n",
       "      <td>12</td>\n",
       "      <td>14.0</td>\n",
       "      <td>NaN</td>\n",
       "      <td>1057</td>\n",
       "      <td>0</td>\n",
       "      <td>1</td>\n",
       "      <td>2</td>\n",
       "    </tr>\n",
       "    <tr>\n",
       "      <th>4</th>\n",
       "      <td>1000002</td>\n",
       "      <td>P00285442</td>\n",
       "      <td>16</td>\n",
       "      <td>0</td>\n",
       "      <td>8</td>\n",
       "      <td>NaN</td>\n",
       "      <td>NaN</td>\n",
       "      <td>7969</td>\n",
       "      <td>1</td>\n",
       "      <td>7</td>\n",
       "      <td>4</td>\n",
       "    </tr>\n",
       "  </tbody>\n",
       "</table>\n",
       "</div>"
      ],
      "text/plain": [
       "   User_ID Product_ID  Occupation  Marital_Status  Product_Category_1  \\\n",
       "0  1000001  P00069042          10               0                   3   \n",
       "1  1000001  P00248942          10               0                   1   \n",
       "2  1000001  P00087842          10               0                  12   \n",
       "3  1000001  P00085442          10               0                  12   \n",
       "4  1000002  P00285442          16               0                   8   \n",
       "\n",
       "   Product_Category_2  Product_Category_3  Purchase  gender  age  \\\n",
       "0                 NaN                 NaN      8370       0    1   \n",
       "1                 6.0                14.0     15200       0    1   \n",
       "2                 NaN                 NaN      1422       0    1   \n",
       "3                14.0                 NaN      1057       0    1   \n",
       "4                 NaN                 NaN      7969       1    7   \n",
       "\n",
       "   city_residency_duration  \n",
       "0                        2  \n",
       "1                        2  \n",
       "2                        2  \n",
       "3                        2  \n",
       "4                        4  "
      ]
     },
     "execution_count": 11,
     "metadata": {},
     "output_type": "execute_result"
    }
   ],
   "source": [
    "df.head()"
   ]
  },
  {
   "cell_type": "markdown",
   "metadata": {
    "id": "I5BU3gKuQclw"
   },
   "source": [
    "## Splitting dataset"
   ]
  },
  {
   "cell_type": "code",
   "execution_count": 12,
   "metadata": {
    "colab": {
     "base_uri": "https://localhost:8080/"
    },
    "id": "hu0TJj4rQcTP",
    "outputId": "106af886-cd5d-4a22-d891-80273e88e01c"
   },
   "outputs": [
    {
     "data": {
      "text/plain": [
       "User_ID                         0\n",
       "Product_ID                      0\n",
       "Occupation                      0\n",
       "Marital_Status                  0\n",
       "Product_Category_1              0\n",
       "Product_Category_2         173638\n",
       "Product_Category_3         383247\n",
       "Purchase                        0\n",
       "gender                          0\n",
       "age                             0\n",
       "city_residency_duration         0\n",
       "dtype: int64"
      ]
     },
     "execution_count": 12,
     "metadata": {},
     "output_type": "execute_result"
    }
   ],
   "source": [
    "df.isna().sum()"
   ]
  },
  {
   "cell_type": "code",
   "execution_count": 13,
   "metadata": {
    "id": "mPV-fv3EWliY"
   },
   "outputs": [],
   "source": [
    "# column for number of categories a product_id belongs to\n",
    "df['cat_count'] = 3 - (df.isna().sum(axis=1))\n",
    "df_1 = df[df['cat_count'] == 1].drop(['Product_Category_2', 'Product_Category_3','cat_count'],axis=1)\n",
    "df_2 = df[df['cat_count'] == 2].drop(['Product_Category_3','cat_count'],axis=1)\n",
    "df_3 = df[df['cat_count'] == 3].drop(['cat_count'],axis=1)"
   ]
  },
  {
   "cell_type": "markdown",
   "metadata": {
    "id": "gGIAmDp-CAwg"
   },
   "source": [
    "## Feature Engineering"
   ]
  },
  {
   "cell_type": "code",
   "execution_count": 14,
   "metadata": {
    "id": "U108-iziy6uJ"
   },
   "outputs": [],
   "source": [
    "def pop_sco(df, col:list, agg_func:str, new_col_name:str, ascending = True):\n",
    "    return df[col].groupby(col).Product_ID.agg(agg_func).to_frame(new_col_name).sort_values(by=new_col_name,ascending=ascending).reset_index()"
   ]
  },
  {
   "cell_type": "code",
   "execution_count": 15,
   "metadata": {
    "id": "bmV9QuiyUB66"
   },
   "outputs": [],
   "source": [
    "prod_1 = pop_sco(df_1,['Product_ID'], 'count',\"count_prod\",False)\n",
    "prod_2 = pop_sco(df_2,['Product_ID'], 'count',\"count_prod\",False)\n",
    "prod_3 = pop_sco(df_3,['Product_ID'], 'count',\"count_prod\",False)"
   ]
  },
  {
   "cell_type": "code",
   "execution_count": 16,
   "metadata": {
    "colab": {
     "base_uri": "https://localhost:8080/",
     "height": 423
    },
    "id": "EFKjtF97rjHj",
    "outputId": "ed94025e-8cd5-4db5-d54f-da358d4dbf3a"
   },
   "outputs": [
    {
     "data": {
      "text/html": [
       "<div>\n",
       "<style scoped>\n",
       "    .dataframe tbody tr th:only-of-type {\n",
       "        vertical-align: middle;\n",
       "    }\n",
       "\n",
       "    .dataframe tbody tr th {\n",
       "        vertical-align: top;\n",
       "    }\n",
       "\n",
       "    .dataframe thead th {\n",
       "        text-align: right;\n",
       "    }\n",
       "</style>\n",
       "<table border=\"1\" class=\"dataframe\">\n",
       "  <thead>\n",
       "    <tr style=\"text-align: right;\">\n",
       "      <th></th>\n",
       "      <th>Product_ID</th>\n",
       "      <th>count_prod</th>\n",
       "    </tr>\n",
       "  </thead>\n",
       "  <tbody>\n",
       "    <tr>\n",
       "      <th>0</th>\n",
       "      <td>P00255842</td>\n",
       "      <td>1383</td>\n",
       "    </tr>\n",
       "    <tr>\n",
       "      <th>1</th>\n",
       "      <td>P00278642</td>\n",
       "      <td>1226</td>\n",
       "    </tr>\n",
       "    <tr>\n",
       "      <th>2</th>\n",
       "      <td>P00031042</td>\n",
       "      <td>1200</td>\n",
       "    </tr>\n",
       "    <tr>\n",
       "      <th>3</th>\n",
       "      <td>P00258742</td>\n",
       "      <td>964</td>\n",
       "    </tr>\n",
       "    <tr>\n",
       "      <th>4</th>\n",
       "      <td>P00110542</td>\n",
       "      <td>958</td>\n",
       "    </tr>\n",
       "    <tr>\n",
       "      <th>...</th>\n",
       "      <td>...</td>\n",
       "      <td>...</td>\n",
       "    </tr>\n",
       "    <tr>\n",
       "      <th>1823</th>\n",
       "      <td>P00081642</td>\n",
       "      <td>1</td>\n",
       "    </tr>\n",
       "    <tr>\n",
       "      <th>1824</th>\n",
       "      <td>P00083142</td>\n",
       "      <td>1</td>\n",
       "    </tr>\n",
       "    <tr>\n",
       "      <th>1825</th>\n",
       "      <td>P00083542</td>\n",
       "      <td>1</td>\n",
       "    </tr>\n",
       "    <tr>\n",
       "      <th>1826</th>\n",
       "      <td>P00241842</td>\n",
       "      <td>1</td>\n",
       "    </tr>\n",
       "    <tr>\n",
       "      <th>1827</th>\n",
       "      <td>P00059342</td>\n",
       "      <td>1</td>\n",
       "    </tr>\n",
       "  </tbody>\n",
       "</table>\n",
       "<p>1828 rows × 2 columns</p>\n",
       "</div>"
      ],
      "text/plain": [
       "     Product_ID  count_prod\n",
       "0     P00255842        1383\n",
       "1     P00278642        1226\n",
       "2     P00031042        1200\n",
       "3     P00258742         964\n",
       "4     P00110542         958\n",
       "...         ...         ...\n",
       "1823  P00081642           1\n",
       "1824  P00083142           1\n",
       "1825  P00083542           1\n",
       "1826  P00241842           1\n",
       "1827  P00059342           1\n",
       "\n",
       "[1828 rows x 2 columns]"
      ]
     },
     "execution_count": 16,
     "metadata": {},
     "output_type": "execute_result"
    }
   ],
   "source": [
    "prod_1"
   ]
  },
  {
   "cell_type": "code",
   "execution_count": 17,
   "metadata": {
    "id": "t8YqyDvqVaJB"
   },
   "outputs": [],
   "source": [
    "scale_1 = MinMaxScaler()\n",
    "scale_2 = MinMaxScaler()\n",
    "scale_3 = MinMaxScaler()\n",
    "prod_1[\"product_popularity_score\"] = scale_1.fit_transform(prod_1[['count_prod']])\n",
    "prod_2[\"product_popularity_score\"] = scale_2.fit_transform(prod_2[['count_prod']])\n",
    "prod_3[\"product_popularity_score\"] = scale_3.fit_transform(prod_3[['count_prod']])"
   ]
  },
  {
   "cell_type": "code",
   "execution_count": 18,
   "metadata": {
    "id": "NC0YKfmsV1iL"
   },
   "outputs": [],
   "source": [
    "def score(col,x,y):\n",
    "    return col.map(dict(zip(x,y)))"
   ]
  },
  {
   "cell_type": "code",
   "execution_count": 19,
   "metadata": {
    "id": "Li7McCKRWVLM"
   },
   "outputs": [],
   "source": [
    "df_1['product_popularity_score'] = score(df_1['Product_ID'],prod_1.Product_ID,prod_1.product_popularity_score)\n",
    "df_2['product_popularity_score'] = score(df_2['Product_ID'],prod_2.Product_ID,prod_2.product_popularity_score)\n",
    "df_3['product_popularity_score'] = score(df_3['Product_ID'],prod_3.Product_ID,prod_3.product_popularity_score)"
   ]
  },
  {
   "cell_type": "code",
   "execution_count": 20,
   "metadata": {
    "id": "Na_8JnnVeGdU"
   },
   "outputs": [],
   "source": [
    "df_1.drop(['User_ID',\t'Product_ID'],axis=1,inplace=True)\n",
    "df_2.drop(['User_ID',\t'Product_ID'],axis=1,inplace=True)\n",
    "df_3.drop(['User_ID',\t'Product_ID'],axis=1,inplace=True)"
   ]
  },
  {
   "cell_type": "code",
   "execution_count": 21,
   "metadata": {
    "colab": {
     "base_uri": "https://localhost:8080/",
     "height": 206
    },
    "id": "r9uYk6d92-S7",
    "outputId": "269fc06e-cd35-4eb5-81bc-5696d1fa4d10"
   },
   "outputs": [
    {
     "data": {
      "text/html": [
       "<div>\n",
       "<style scoped>\n",
       "    .dataframe tbody tr th:only-of-type {\n",
       "        vertical-align: middle;\n",
       "    }\n",
       "\n",
       "    .dataframe tbody tr th {\n",
       "        vertical-align: top;\n",
       "    }\n",
       "\n",
       "    .dataframe thead th {\n",
       "        text-align: right;\n",
       "    }\n",
       "</style>\n",
       "<table border=\"1\" class=\"dataframe\">\n",
       "  <thead>\n",
       "    <tr style=\"text-align: right;\">\n",
       "      <th></th>\n",
       "      <th>Occupation</th>\n",
       "      <th>Marital_Status</th>\n",
       "      <th>Product_Category_1</th>\n",
       "      <th>Purchase</th>\n",
       "      <th>gender</th>\n",
       "      <th>age</th>\n",
       "      <th>city_residency_duration</th>\n",
       "      <th>product_popularity_score</th>\n",
       "    </tr>\n",
       "  </thead>\n",
       "  <tbody>\n",
       "    <tr>\n",
       "      <th>0</th>\n",
       "      <td>10</td>\n",
       "      <td>0</td>\n",
       "      <td>3</td>\n",
       "      <td>8370</td>\n",
       "      <td>0</td>\n",
       "      <td>1</td>\n",
       "      <td>2</td>\n",
       "      <td>0.163531</td>\n",
       "    </tr>\n",
       "    <tr>\n",
       "      <th>2</th>\n",
       "      <td>10</td>\n",
       "      <td>0</td>\n",
       "      <td>12</td>\n",
       "      <td>1422</td>\n",
       "      <td>0</td>\n",
       "      <td>1</td>\n",
       "      <td>2</td>\n",
       "      <td>0.073082</td>\n",
       "    </tr>\n",
       "    <tr>\n",
       "      <th>4</th>\n",
       "      <td>16</td>\n",
       "      <td>0</td>\n",
       "      <td>8</td>\n",
       "      <td>7969</td>\n",
       "      <td>1</td>\n",
       "      <td>7</td>\n",
       "      <td>4</td>\n",
       "      <td>0.146165</td>\n",
       "    </tr>\n",
       "    <tr>\n",
       "      <th>9</th>\n",
       "      <td>20</td>\n",
       "      <td>1</td>\n",
       "      <td>8</td>\n",
       "      <td>7871</td>\n",
       "      <td>1</td>\n",
       "      <td>3</td>\n",
       "      <td>1</td>\n",
       "      <td>0.573082</td>\n",
       "    </tr>\n",
       "    <tr>\n",
       "      <th>11</th>\n",
       "      <td>20</td>\n",
       "      <td>1</td>\n",
       "      <td>8</td>\n",
       "      <td>3957</td>\n",
       "      <td>1</td>\n",
       "      <td>3</td>\n",
       "      <td>1</td>\n",
       "      <td>0.485528</td>\n",
       "    </tr>\n",
       "  </tbody>\n",
       "</table>\n",
       "</div>"
      ],
      "text/plain": [
       "    Occupation  Marital_Status  Product_Category_1  Purchase  gender  age  \\\n",
       "0           10               0                   3      8370       0    1   \n",
       "2           10               0                  12      1422       0    1   \n",
       "4           16               0                   8      7969       1    7   \n",
       "9           20               1                   8      7871       1    3   \n",
       "11          20               1                   8      3957       1    3   \n",
       "\n",
       "    city_residency_duration  product_popularity_score  \n",
       "0                         2                  0.163531  \n",
       "2                         2                  0.073082  \n",
       "4                         4                  0.146165  \n",
       "9                         1                  0.573082  \n",
       "11                        1                  0.485528  "
      ]
     },
     "execution_count": 21,
     "metadata": {},
     "output_type": "execute_result"
    }
   ],
   "source": [
    "df_1.head()"
   ]
  },
  {
   "cell_type": "code",
   "execution_count": 22,
   "metadata": {
    "colab": {
     "base_uri": "https://localhost:8080/",
     "height": 226
    },
    "id": "aXNjRhtE3BIu",
    "outputId": "f5c847fc-682e-4737-fbe2-9edaea63d519"
   },
   "outputs": [
    {
     "data": {
      "text/html": [
       "<div>\n",
       "<style scoped>\n",
       "    .dataframe tbody tr th:only-of-type {\n",
       "        vertical-align: middle;\n",
       "    }\n",
       "\n",
       "    .dataframe tbody tr th {\n",
       "        vertical-align: top;\n",
       "    }\n",
       "\n",
       "    .dataframe thead th {\n",
       "        text-align: right;\n",
       "    }\n",
       "</style>\n",
       "<table border=\"1\" class=\"dataframe\">\n",
       "  <thead>\n",
       "    <tr style=\"text-align: right;\">\n",
       "      <th></th>\n",
       "      <th>Occupation</th>\n",
       "      <th>Marital_Status</th>\n",
       "      <th>Product_Category_1</th>\n",
       "      <th>Product_Category_2</th>\n",
       "      <th>Purchase</th>\n",
       "      <th>gender</th>\n",
       "      <th>age</th>\n",
       "      <th>city_residency_duration</th>\n",
       "      <th>product_popularity_score</th>\n",
       "    </tr>\n",
       "  </thead>\n",
       "  <tbody>\n",
       "    <tr>\n",
       "      <th>3</th>\n",
       "      <td>10</td>\n",
       "      <td>0</td>\n",
       "      <td>12</td>\n",
       "      <td>14.0</td>\n",
       "      <td>1057</td>\n",
       "      <td>0</td>\n",
       "      <td>1</td>\n",
       "      <td>2</td>\n",
       "      <td>0.180947</td>\n",
       "    </tr>\n",
       "    <tr>\n",
       "      <th>5</th>\n",
       "      <td>15</td>\n",
       "      <td>0</td>\n",
       "      <td>1</td>\n",
       "      <td>2.0</td>\n",
       "      <td>15227</td>\n",
       "      <td>1</td>\n",
       "      <td>3</td>\n",
       "      <td>3</td>\n",
       "      <td>0.326770</td>\n",
       "    </tr>\n",
       "    <tr>\n",
       "      <th>7</th>\n",
       "      <td>7</td>\n",
       "      <td>1</td>\n",
       "      <td>1</td>\n",
       "      <td>15.0</td>\n",
       "      <td>15854</td>\n",
       "      <td>1</td>\n",
       "      <td>5</td>\n",
       "      <td>2</td>\n",
       "      <td>0.315061</td>\n",
       "    </tr>\n",
       "    <tr>\n",
       "      <th>8</th>\n",
       "      <td>7</td>\n",
       "      <td>1</td>\n",
       "      <td>1</td>\n",
       "      <td>16.0</td>\n",
       "      <td>15686</td>\n",
       "      <td>1</td>\n",
       "      <td>5</td>\n",
       "      <td>2</td>\n",
       "      <td>0.484832</td>\n",
       "    </tr>\n",
       "    <tr>\n",
       "      <th>10</th>\n",
       "      <td>20</td>\n",
       "      <td>1</td>\n",
       "      <td>5</td>\n",
       "      <td>11.0</td>\n",
       "      <td>5254</td>\n",
       "      <td>1</td>\n",
       "      <td>3</td>\n",
       "      <td>1</td>\n",
       "      <td>0.631187</td>\n",
       "    </tr>\n",
       "  </tbody>\n",
       "</table>\n",
       "</div>"
      ],
      "text/plain": [
       "    Occupation  Marital_Status  Product_Category_1  Product_Category_2  \\\n",
       "3           10               0                  12                14.0   \n",
       "5           15               0                   1                 2.0   \n",
       "7            7               1                   1                15.0   \n",
       "8            7               1                   1                16.0   \n",
       "10          20               1                   5                11.0   \n",
       "\n",
       "    Purchase  gender  age  city_residency_duration  product_popularity_score  \n",
       "3       1057       0    1                        2                  0.180947  \n",
       "5      15227       1    3                        3                  0.326770  \n",
       "7      15854       1    5                        2                  0.315061  \n",
       "8      15686       1    5                        2                  0.484832  \n",
       "10      5254       1    3                        1                  0.631187  "
      ]
     },
     "execution_count": 22,
     "metadata": {},
     "output_type": "execute_result"
    }
   ],
   "source": [
    "df_2.head()"
   ]
  },
  {
   "cell_type": "code",
   "execution_count": 23,
   "metadata": {
    "colab": {
     "base_uri": "https://localhost:8080/",
     "height": 226
    },
    "id": "qa027EB-3A_1",
    "outputId": "0723c23e-77db-427a-8ae7-f3a720ade881"
   },
   "outputs": [
    {
     "data": {
      "text/html": [
       "<div>\n",
       "<style scoped>\n",
       "    .dataframe tbody tr th:only-of-type {\n",
       "        vertical-align: middle;\n",
       "    }\n",
       "\n",
       "    .dataframe tbody tr th {\n",
       "        vertical-align: top;\n",
       "    }\n",
       "\n",
       "    .dataframe thead th {\n",
       "        text-align: right;\n",
       "    }\n",
       "</style>\n",
       "<table border=\"1\" class=\"dataframe\">\n",
       "  <thead>\n",
       "    <tr style=\"text-align: right;\">\n",
       "      <th></th>\n",
       "      <th>Occupation</th>\n",
       "      <th>Marital_Status</th>\n",
       "      <th>Product_Category_1</th>\n",
       "      <th>Product_Category_2</th>\n",
       "      <th>Product_Category_3</th>\n",
       "      <th>Purchase</th>\n",
       "      <th>gender</th>\n",
       "      <th>age</th>\n",
       "      <th>city_residency_duration</th>\n",
       "      <th>product_popularity_score</th>\n",
       "    </tr>\n",
       "  </thead>\n",
       "  <tbody>\n",
       "    <tr>\n",
       "      <th>1</th>\n",
       "      <td>10</td>\n",
       "      <td>0</td>\n",
       "      <td>1</td>\n",
       "      <td>6.0</td>\n",
       "      <td>14.0</td>\n",
       "      <td>15200</td>\n",
       "      <td>0</td>\n",
       "      <td>1</td>\n",
       "      <td>2</td>\n",
       "      <td>0.359356</td>\n",
       "    </tr>\n",
       "    <tr>\n",
       "      <th>6</th>\n",
       "      <td>7</td>\n",
       "      <td>1</td>\n",
       "      <td>1</td>\n",
       "      <td>8.0</td>\n",
       "      <td>17.0</td>\n",
       "      <td>19215</td>\n",
       "      <td>1</td>\n",
       "      <td>5</td>\n",
       "      <td>2</td>\n",
       "      <td>0.891574</td>\n",
       "    </tr>\n",
       "    <tr>\n",
       "      <th>13</th>\n",
       "      <td>20</td>\n",
       "      <td>1</td>\n",
       "      <td>1</td>\n",
       "      <td>2.0</td>\n",
       "      <td>5.0</td>\n",
       "      <td>15665</td>\n",
       "      <td>1</td>\n",
       "      <td>3</td>\n",
       "      <td>1</td>\n",
       "      <td>0.870508</td>\n",
       "    </tr>\n",
       "    <tr>\n",
       "      <th>14</th>\n",
       "      <td>9</td>\n",
       "      <td>0</td>\n",
       "      <td>5</td>\n",
       "      <td>8.0</td>\n",
       "      <td>14.0</td>\n",
       "      <td>5378</td>\n",
       "      <td>0</td>\n",
       "      <td>6</td>\n",
       "      <td>1</td>\n",
       "      <td>0.050805</td>\n",
       "    </tr>\n",
       "    <tr>\n",
       "      <th>16</th>\n",
       "      <td>9</td>\n",
       "      <td>0</td>\n",
       "      <td>2</td>\n",
       "      <td>3.0</td>\n",
       "      <td>4.0</td>\n",
       "      <td>13055</td>\n",
       "      <td>0</td>\n",
       "      <td>6</td>\n",
       "      <td>1</td>\n",
       "      <td>0.107187</td>\n",
       "    </tr>\n",
       "  </tbody>\n",
       "</table>\n",
       "</div>"
      ],
      "text/plain": [
       "    Occupation  Marital_Status  Product_Category_1  Product_Category_2  \\\n",
       "1           10               0                   1                 6.0   \n",
       "6            7               1                   1                 8.0   \n",
       "13          20               1                   1                 2.0   \n",
       "14           9               0                   5                 8.0   \n",
       "16           9               0                   2                 3.0   \n",
       "\n",
       "    Product_Category_3  Purchase  gender  age  city_residency_duration  \\\n",
       "1                 14.0     15200       0    1                        2   \n",
       "6                 17.0     19215       1    5                        2   \n",
       "13                 5.0     15665       1    3                        1   \n",
       "14                14.0      5378       0    6                        1   \n",
       "16                 4.0     13055       0    6                        1   \n",
       "\n",
       "    product_popularity_score  \n",
       "1                   0.359356  \n",
       "6                   0.891574  \n",
       "13                  0.870508  \n",
       "14                  0.050805  \n",
       "16                  0.107187  "
      ]
     },
     "execution_count": 23,
     "metadata": {},
     "output_type": "execute_result"
    }
   ],
   "source": [
    "df_3.head()"
   ]
  },
  {
   "cell_type": "code",
   "execution_count": 24,
   "metadata": {
    "colab": {
     "base_uri": "https://localhost:8080/"
    },
    "id": "KIZ79_gp7kaz",
    "outputId": "19e71f5f-7715-448c-911b-dda0654a0f52"
   },
   "outputs": [
    {
     "name": "stdout",
     "output_type": "stream",
     "text": [
      "df_1 : (173638, 8)\n",
      "df_2: (209609, 9)\n",
      "df_3 : (166821, 10)\n"
     ]
    }
   ],
   "source": [
    "print(\"df_1 : {}\\ndf_2: {}\\ndf_3 : {}\".format(df_1.shape,df_2.shape,df_3.shape))"
   ]
  },
  {
   "cell_type": "markdown",
   "metadata": {
    "id": "ewFcGf5x4qFT"
   },
   "source": [
    "# EDA"
   ]
  },
  {
   "cell_type": "code",
   "execution_count": 25,
   "metadata": {
    "colab": {
     "base_uri": "https://localhost:8080/",
     "height": 320
    },
    "id": "Oq08bunv5HER",
    "outputId": "a1e6c9e3-65d8-4ed5-cd13-26e8a29a2d30"
   },
   "outputs": [
    {
     "data": {
      "text/html": [
       "<div>\n",
       "<style scoped>\n",
       "    .dataframe tbody tr th:only-of-type {\n",
       "        vertical-align: middle;\n",
       "    }\n",
       "\n",
       "    .dataframe tbody tr th {\n",
       "        vertical-align: top;\n",
       "    }\n",
       "\n",
       "    .dataframe thead th {\n",
       "        text-align: right;\n",
       "    }\n",
       "</style>\n",
       "<table border=\"1\" class=\"dataframe\">\n",
       "  <thead>\n",
       "    <tr style=\"text-align: right;\">\n",
       "      <th></th>\n",
       "      <th>Occupation</th>\n",
       "      <th>Marital_Status</th>\n",
       "      <th>Product_Category_1</th>\n",
       "      <th>Purchase</th>\n",
       "      <th>gender</th>\n",
       "      <th>age</th>\n",
       "      <th>city_residency_duration</th>\n",
       "      <th>product_popularity_score</th>\n",
       "    </tr>\n",
       "  </thead>\n",
       "  <tbody>\n",
       "    <tr>\n",
       "      <th>count</th>\n",
       "      <td>173638.000000</td>\n",
       "      <td>173638.000000</td>\n",
       "      <td>173638.000000</td>\n",
       "      <td>173638.000000</td>\n",
       "      <td>173638.000000</td>\n",
       "      <td>173638.000000</td>\n",
       "      <td>173638.000000</td>\n",
       "      <td>173638.000000</td>\n",
       "    </tr>\n",
       "    <tr>\n",
       "      <th>mean</th>\n",
       "      <td>7.986322</td>\n",
       "      <td>0.416902</td>\n",
       "      <td>7.930908</td>\n",
       "      <td>7518.695389</td>\n",
       "      <td>0.744992</td>\n",
       "      <td>3.528438</td>\n",
       "      <td>1.852774</td>\n",
       "      <td>0.232204</td>\n",
       "    </tr>\n",
       "    <tr>\n",
       "      <th>std</th>\n",
       "      <td>6.560214</td>\n",
       "      <td>0.493048</td>\n",
       "      <td>4.037338</td>\n",
       "      <td>4142.460056</td>\n",
       "      <td>0.435867</td>\n",
       "      <td>1.366675</td>\n",
       "      <td>1.294650</td>\n",
       "      <td>0.201951</td>\n",
       "    </tr>\n",
       "    <tr>\n",
       "      <th>min</th>\n",
       "      <td>0.000000</td>\n",
       "      <td>0.000000</td>\n",
       "      <td>1.000000</td>\n",
       "      <td>12.000000</td>\n",
       "      <td>0.000000</td>\n",
       "      <td>1.000000</td>\n",
       "      <td>0.000000</td>\n",
       "      <td>0.000000</td>\n",
       "    </tr>\n",
       "    <tr>\n",
       "      <th>25%</th>\n",
       "      <td>2.000000</td>\n",
       "      <td>0.000000</td>\n",
       "      <td>5.000000</td>\n",
       "      <td>5254.000000</td>\n",
       "      <td>0.000000</td>\n",
       "      <td>3.000000</td>\n",
       "      <td>1.000000</td>\n",
       "      <td>0.080318</td>\n",
       "    </tr>\n",
       "    <tr>\n",
       "      <th>50%</th>\n",
       "      <td>7.000000</td>\n",
       "      <td>0.000000</td>\n",
       "      <td>8.000000</td>\n",
       "      <td>7075.000000</td>\n",
       "      <td>1.000000</td>\n",
       "      <td>3.000000</td>\n",
       "      <td>2.000000</td>\n",
       "      <td>0.168596</td>\n",
       "    </tr>\n",
       "    <tr>\n",
       "      <th>75%</th>\n",
       "      <td>14.000000</td>\n",
       "      <td>1.000000</td>\n",
       "      <td>8.000000</td>\n",
       "      <td>8783.000000</td>\n",
       "      <td>1.000000</td>\n",
       "      <td>4.000000</td>\n",
       "      <td>3.000000</td>\n",
       "      <td>0.325615</td>\n",
       "    </tr>\n",
       "    <tr>\n",
       "      <th>max</th>\n",
       "      <td>20.000000</td>\n",
       "      <td>1.000000</td>\n",
       "      <td>20.000000</td>\n",
       "      <td>23959.000000</td>\n",
       "      <td>1.000000</td>\n",
       "      <td>7.000000</td>\n",
       "      <td>4.000000</td>\n",
       "      <td>1.000000</td>\n",
       "    </tr>\n",
       "  </tbody>\n",
       "</table>\n",
       "</div>"
      ],
      "text/plain": [
       "          Occupation  Marital_Status  Product_Category_1       Purchase  \\\n",
       "count  173638.000000   173638.000000       173638.000000  173638.000000   \n",
       "mean        7.986322        0.416902            7.930908    7518.695389   \n",
       "std         6.560214        0.493048            4.037338    4142.460056   \n",
       "min         0.000000        0.000000            1.000000      12.000000   \n",
       "25%         2.000000        0.000000            5.000000    5254.000000   \n",
       "50%         7.000000        0.000000            8.000000    7075.000000   \n",
       "75%        14.000000        1.000000            8.000000    8783.000000   \n",
       "max        20.000000        1.000000           20.000000   23959.000000   \n",
       "\n",
       "              gender            age  city_residency_duration  \\\n",
       "count  173638.000000  173638.000000            173638.000000   \n",
       "mean        0.744992       3.528438                 1.852774   \n",
       "std         0.435867       1.366675                 1.294650   \n",
       "min         0.000000       1.000000                 0.000000   \n",
       "25%         0.000000       3.000000                 1.000000   \n",
       "50%         1.000000       3.000000                 2.000000   \n",
       "75%         1.000000       4.000000                 3.000000   \n",
       "max         1.000000       7.000000                 4.000000   \n",
       "\n",
       "       product_popularity_score  \n",
       "count             173638.000000  \n",
       "mean                   0.232204  \n",
       "std                    0.201951  \n",
       "min                    0.000000  \n",
       "25%                    0.080318  \n",
       "50%                    0.168596  \n",
       "75%                    0.325615  \n",
       "max                    1.000000  "
      ]
     },
     "execution_count": 25,
     "metadata": {},
     "output_type": "execute_result"
    }
   ],
   "source": [
    "df_1.describe()"
   ]
  },
  {
   "cell_type": "code",
   "execution_count": 26,
   "metadata": {
    "colab": {
     "base_uri": "https://localhost:8080/",
     "height": 320
    },
    "id": "sPpZkj3eYfKt",
    "outputId": "92e76c07-6092-42e4-bbcc-e34154b666e8"
   },
   "outputs": [
    {
     "data": {
      "text/html": [
       "<div>\n",
       "<style scoped>\n",
       "    .dataframe tbody tr th:only-of-type {\n",
       "        vertical-align: middle;\n",
       "    }\n",
       "\n",
       "    .dataframe tbody tr th {\n",
       "        vertical-align: top;\n",
       "    }\n",
       "\n",
       "    .dataframe thead th {\n",
       "        text-align: right;\n",
       "    }\n",
       "</style>\n",
       "<table border=\"1\" class=\"dataframe\">\n",
       "  <thead>\n",
       "    <tr style=\"text-align: right;\">\n",
       "      <th></th>\n",
       "      <th>Occupation</th>\n",
       "      <th>Marital_Status</th>\n",
       "      <th>Product_Category_1</th>\n",
       "      <th>Product_Category_2</th>\n",
       "      <th>Purchase</th>\n",
       "      <th>gender</th>\n",
       "      <th>age</th>\n",
       "      <th>city_residency_duration</th>\n",
       "      <th>product_popularity_score</th>\n",
       "    </tr>\n",
       "  </thead>\n",
       "  <tbody>\n",
       "    <tr>\n",
       "      <th>count</th>\n",
       "      <td>209609.000000</td>\n",
       "      <td>209609.000000</td>\n",
       "      <td>209609.000000</td>\n",
       "      <td>209609.000000</td>\n",
       "      <td>209609.000000</td>\n",
       "      <td>209609.000000</td>\n",
       "      <td>209609.000000</td>\n",
       "      <td>209609.000000</td>\n",
       "      <td>209609.000000</td>\n",
       "    </tr>\n",
       "    <tr>\n",
       "      <th>mean</th>\n",
       "      <td>8.070259</td>\n",
       "      <td>0.409071</td>\n",
       "      <td>5.429433</td>\n",
       "      <td>12.186523</td>\n",
       "      <td>8804.312377</td>\n",
       "      <td>0.742683</td>\n",
       "      <td>3.502765</td>\n",
       "      <td>1.860488</td>\n",
       "      <td>0.226907</td>\n",
       "    </tr>\n",
       "    <tr>\n",
       "      <th>std</th>\n",
       "      <td>6.518223</td>\n",
       "      <td>0.491664</td>\n",
       "      <td>3.310195</td>\n",
       "      <td>4.236377</td>\n",
       "      <td>4913.735102</td>\n",
       "      <td>0.437157</td>\n",
       "      <td>1.356582</td>\n",
       "      <td>1.288806</td>\n",
       "      <td>0.184135</td>\n",
       "    </tr>\n",
       "    <tr>\n",
       "      <th>min</th>\n",
       "      <td>0.000000</td>\n",
       "      <td>0.000000</td>\n",
       "      <td>1.000000</td>\n",
       "      <td>2.000000</td>\n",
       "      <td>185.000000</td>\n",
       "      <td>0.000000</td>\n",
       "      <td>1.000000</td>\n",
       "      <td>0.000000</td>\n",
       "      <td>0.000000</td>\n",
       "    </tr>\n",
       "    <tr>\n",
       "      <th>25%</th>\n",
       "      <td>2.000000</td>\n",
       "      <td>0.000000</td>\n",
       "      <td>3.000000</td>\n",
       "      <td>8.000000</td>\n",
       "      <td>5397.000000</td>\n",
       "      <td>0.000000</td>\n",
       "      <td>3.000000</td>\n",
       "      <td>1.000000</td>\n",
       "      <td>0.091006</td>\n",
       "    </tr>\n",
       "    <tr>\n",
       "      <th>50%</th>\n",
       "      <td>7.000000</td>\n",
       "      <td>0.000000</td>\n",
       "      <td>5.000000</td>\n",
       "      <td>14.000000</td>\n",
       "      <td>7878.000000</td>\n",
       "      <td>1.000000</td>\n",
       "      <td>3.000000</td>\n",
       "      <td>2.000000</td>\n",
       "      <td>0.180947</td>\n",
       "    </tr>\n",
       "    <tr>\n",
       "      <th>75%</th>\n",
       "      <td>14.000000</td>\n",
       "      <td>1.000000</td>\n",
       "      <td>8.000000</td>\n",
       "      <td>16.000000</td>\n",
       "      <td>11566.000000</td>\n",
       "      <td>1.000000</td>\n",
       "      <td>4.000000</td>\n",
       "      <td>3.000000</td>\n",
       "      <td>0.313997</td>\n",
       "    </tr>\n",
       "    <tr>\n",
       "      <th>max</th>\n",
       "      <td>20.000000</td>\n",
       "      <td>1.000000</td>\n",
       "      <td>15.000000</td>\n",
       "      <td>18.000000</td>\n",
       "      <td>23961.000000</td>\n",
       "      <td>1.000000</td>\n",
       "      <td>7.000000</td>\n",
       "      <td>4.000000</td>\n",
       "      <td>1.000000</td>\n",
       "    </tr>\n",
       "  </tbody>\n",
       "</table>\n",
       "</div>"
      ],
      "text/plain": [
       "          Occupation  Marital_Status  Product_Category_1  Product_Category_2  \\\n",
       "count  209609.000000   209609.000000       209609.000000       209609.000000   \n",
       "mean        8.070259        0.409071            5.429433           12.186523   \n",
       "std         6.518223        0.491664            3.310195            4.236377   \n",
       "min         0.000000        0.000000            1.000000            2.000000   \n",
       "25%         2.000000        0.000000            3.000000            8.000000   \n",
       "50%         7.000000        0.000000            5.000000           14.000000   \n",
       "75%        14.000000        1.000000            8.000000           16.000000   \n",
       "max        20.000000        1.000000           15.000000           18.000000   \n",
       "\n",
       "            Purchase         gender            age  city_residency_duration  \\\n",
       "count  209609.000000  209609.000000  209609.000000            209609.000000   \n",
       "mean     8804.312377       0.742683       3.502765                 1.860488   \n",
       "std      4913.735102       0.437157       1.356582                 1.288806   \n",
       "min       185.000000       0.000000       1.000000                 0.000000   \n",
       "25%      5397.000000       0.000000       3.000000                 1.000000   \n",
       "50%      7878.000000       1.000000       3.000000                 2.000000   \n",
       "75%     11566.000000       1.000000       4.000000                 3.000000   \n",
       "max     23961.000000       1.000000       7.000000                 4.000000   \n",
       "\n",
       "       product_popularity_score  \n",
       "count             209609.000000  \n",
       "mean                   0.226907  \n",
       "std                    0.184135  \n",
       "min                    0.000000  \n",
       "25%                    0.091006  \n",
       "50%                    0.180947  \n",
       "75%                    0.313997  \n",
       "max                    1.000000  "
      ]
     },
     "execution_count": 26,
     "metadata": {},
     "output_type": "execute_result"
    }
   ],
   "source": [
    "df_2.describe()"
   ]
  },
  {
   "cell_type": "code",
   "execution_count": 27,
   "metadata": {
    "colab": {
     "base_uri": "https://localhost:8080/",
     "height": 320
    },
    "id": "BgCKG7Pt5OBJ",
    "outputId": "30943857-e11b-421b-f8b2-8e1f2870a3ad"
   },
   "outputs": [
    {
     "data": {
      "text/html": [
       "<div>\n",
       "<style scoped>\n",
       "    .dataframe tbody tr th:only-of-type {\n",
       "        vertical-align: middle;\n",
       "    }\n",
       "\n",
       "    .dataframe tbody tr th {\n",
       "        vertical-align: top;\n",
       "    }\n",
       "\n",
       "    .dataframe thead th {\n",
       "        text-align: right;\n",
       "    }\n",
       "</style>\n",
       "<table border=\"1\" class=\"dataframe\">\n",
       "  <thead>\n",
       "    <tr style=\"text-align: right;\">\n",
       "      <th></th>\n",
       "      <th>Occupation</th>\n",
       "      <th>Marital_Status</th>\n",
       "      <th>Product_Category_1</th>\n",
       "      <th>Product_Category_2</th>\n",
       "      <th>Product_Category_3</th>\n",
       "      <th>Purchase</th>\n",
       "      <th>gender</th>\n",
       "      <th>age</th>\n",
       "      <th>city_residency_duration</th>\n",
       "      <th>product_popularity_score</th>\n",
       "    </tr>\n",
       "  </thead>\n",
       "  <tbody>\n",
       "    <tr>\n",
       "      <th>count</th>\n",
       "      <td>166821.000000</td>\n",
       "      <td>166821.000000</td>\n",
       "      <td>166821.000000</td>\n",
       "      <td>166821.000000</td>\n",
       "      <td>166821.000000</td>\n",
       "      <td>166821.000000</td>\n",
       "      <td>166821.000000</td>\n",
       "      <td>166821.000000</td>\n",
       "      <td>166821.000000</td>\n",
       "      <td>166821.000000</td>\n",
       "    </tr>\n",
       "    <tr>\n",
       "      <th>mean</th>\n",
       "      <td>8.178886</td>\n",
       "      <td>0.402839</td>\n",
       "      <td>2.742766</td>\n",
       "      <td>6.896871</td>\n",
       "      <td>12.668243</td>\n",
       "      <td>11658.114980</td>\n",
       "      <td>0.774645</td>\n",
       "      <td>3.455153</td>\n",
       "      <td>1.861690</td>\n",
       "      <td>0.379400</td>\n",
       "    </tr>\n",
       "    <tr>\n",
       "      <th>std</th>\n",
       "      <td>6.487522</td>\n",
       "      <td>0.490470</td>\n",
       "      <td>2.573969</td>\n",
       "      <td>4.500288</td>\n",
       "      <td>4.125338</td>\n",
       "      <td>5082.287959</td>\n",
       "      <td>0.417817</td>\n",
       "      <td>1.335119</td>\n",
       "      <td>1.284791</td>\n",
       "      <td>0.247405</td>\n",
       "    </tr>\n",
       "    <tr>\n",
       "      <th>min</th>\n",
       "      <td>0.000000</td>\n",
       "      <td>0.000000</td>\n",
       "      <td>1.000000</td>\n",
       "      <td>2.000000</td>\n",
       "      <td>3.000000</td>\n",
       "      <td>185.000000</td>\n",
       "      <td>0.000000</td>\n",
       "      <td>1.000000</td>\n",
       "      <td>0.000000</td>\n",
       "      <td>0.000000</td>\n",
       "    </tr>\n",
       "    <tr>\n",
       "      <th>25%</th>\n",
       "      <td>2.000000</td>\n",
       "      <td>0.000000</td>\n",
       "      <td>1.000000</td>\n",
       "      <td>2.000000</td>\n",
       "      <td>9.000000</td>\n",
       "      <td>7869.000000</td>\n",
       "      <td>1.000000</td>\n",
       "      <td>3.000000</td>\n",
       "      <td>1.000000</td>\n",
       "      <td>0.192069</td>\n",
       "    </tr>\n",
       "    <tr>\n",
       "      <th>50%</th>\n",
       "      <td>7.000000</td>\n",
       "      <td>0.000000</td>\n",
       "      <td>1.000000</td>\n",
       "      <td>6.000000</td>\n",
       "      <td>14.000000</td>\n",
       "      <td>11756.000000</td>\n",
       "      <td>1.000000</td>\n",
       "      <td>3.000000</td>\n",
       "      <td>2.000000</td>\n",
       "      <td>0.328377</td>\n",
       "    </tr>\n",
       "    <tr>\n",
       "      <th>75%</th>\n",
       "      <td>14.000000</td>\n",
       "      <td>1.000000</td>\n",
       "      <td>4.000000</td>\n",
       "      <td>10.000000</td>\n",
       "      <td>16.000000</td>\n",
       "      <td>15626.000000</td>\n",
       "      <td>1.000000</td>\n",
       "      <td>4.000000</td>\n",
       "      <td>3.000000</td>\n",
       "      <td>0.509294</td>\n",
       "    </tr>\n",
       "    <tr>\n",
       "      <th>max</th>\n",
       "      <td>20.000000</td>\n",
       "      <td>1.000000</td>\n",
       "      <td>15.000000</td>\n",
       "      <td>16.000000</td>\n",
       "      <td>18.000000</td>\n",
       "      <td>23959.000000</td>\n",
       "      <td>1.000000</td>\n",
       "      <td>7.000000</td>\n",
       "      <td>4.000000</td>\n",
       "      <td>1.000000</td>\n",
       "    </tr>\n",
       "  </tbody>\n",
       "</table>\n",
       "</div>"
      ],
      "text/plain": [
       "          Occupation  Marital_Status  Product_Category_1  Product_Category_2  \\\n",
       "count  166821.000000   166821.000000       166821.000000       166821.000000   \n",
       "mean        8.178886        0.402839            2.742766            6.896871   \n",
       "std         6.487522        0.490470            2.573969            4.500288   \n",
       "min         0.000000        0.000000            1.000000            2.000000   \n",
       "25%         2.000000        0.000000            1.000000            2.000000   \n",
       "50%         7.000000        0.000000            1.000000            6.000000   \n",
       "75%        14.000000        1.000000            4.000000           10.000000   \n",
       "max        20.000000        1.000000           15.000000           16.000000   \n",
       "\n",
       "       Product_Category_3       Purchase         gender            age  \\\n",
       "count       166821.000000  166821.000000  166821.000000  166821.000000   \n",
       "mean            12.668243   11658.114980       0.774645       3.455153   \n",
       "std              4.125338    5082.287959       0.417817       1.335119   \n",
       "min              3.000000     185.000000       0.000000       1.000000   \n",
       "25%              9.000000    7869.000000       1.000000       3.000000   \n",
       "50%             14.000000   11756.000000       1.000000       3.000000   \n",
       "75%             16.000000   15626.000000       1.000000       4.000000   \n",
       "max             18.000000   23959.000000       1.000000       7.000000   \n",
       "\n",
       "       city_residency_duration  product_popularity_score  \n",
       "count            166821.000000             166821.000000  \n",
       "mean                  1.861690                  0.379400  \n",
       "std                   1.284791                  0.247405  \n",
       "min                   0.000000                  0.000000  \n",
       "25%                   1.000000                  0.192069  \n",
       "50%                   2.000000                  0.328377  \n",
       "75%                   3.000000                  0.509294  \n",
       "max                   4.000000                  1.000000  "
      ]
     },
     "execution_count": 27,
     "metadata": {},
     "output_type": "execute_result"
    }
   ],
   "source": [
    "df_3.describe()"
   ]
  },
  {
   "cell_type": "code",
   "execution_count": 28,
   "metadata": {
    "colab": {
     "base_uri": "https://localhost:8080/",
     "height": 689
    },
    "id": "X0v9yBdw7JNF",
    "outputId": "1e7bb2d0-2dd3-4999-8c37-3d79716ce818"
   },
   "outputs": [
    {
     "data": {
      "image/png": "[encoded data removed]",
      "text/plain": [
       "<Figure size 648x432 with 2 Axes>"
      ]
     },
     "metadata": {
      "needs_background": "light"
     },
     "output_type": "display_data"
    }
   ],
   "source": [
    "plt.figure(figsize=(9,6))\n",
    "sns.heatmap(df_1.corr(),annot=True)\n",
    "plt.show()"
   ]
  },
  {
   "cell_type": "code",
   "execution_count": 29,
   "metadata": {
    "colab": {
     "base_uri": "https://localhost:8080/",
     "height": 689
    },
    "id": "WaiPwy_8Zfyu",
    "outputId": "52749fba-41bb-47c5-a598-9077ce451355"
   },
   "outputs": [
    {
     "data": {
      "image/png": "[encoded data removed]",
      "text/plain": [
       "<Figure size 648x432 with 2 Axes>"
      ]
     },
     "metadata": {
      "needs_background": "light"
     },
     "output_type": "display_data"
    }
   ],
   "source": [
    "plt.figure(figsize=(9,6))\n",
    "sns.heatmap(df_2.corr(),annot=True)\n",
    "plt.show()"
   ]
  },
  {
   "cell_type": "code",
   "execution_count": 30,
   "metadata": {
    "colab": {
     "base_uri": "https://localhost:8080/",
     "height": 689
    },
    "id": "tIgJ4sS-ZfhB",
    "outputId": "e53896cd-ae66-47f8-9875-b35dc0255bb7"
   },
   "outputs": [
    {
     "data": {
      "image/png": "[encoded data removed]",
      "text/plain": [
       "<Figure size 792x432 with 2 Axes>"
      ]
     },
     "metadata": {
      "needs_background": "light"
     },
     "output_type": "display_data"
    }
   ],
   "source": [
    "plt.figure(figsize=(11,6))\n",
    "sns.heatmap(df_3.corr(),annot=True)\n",
    "plt.show()"
   ]
  },
  {
   "cell_type": "markdown",
   "metadata": {
    "id": "V8en9XyS4A8F"
   },
   "source": [
    "# Feature Scaling"
   ]
  },
  {
   "cell_type": "code",
   "execution_count": 31,
   "metadata": {
    "id": "DoSc0jME4Ata"
   },
   "outputs": [],
   "source": [
    "scaler_1 = StandardScaler()\n",
    "for i in df_1.drop([\"Purchase\"],axis=1).columns:\n",
    "    df_1[i] = scaler_1.fit_transform(df_1[i].values.reshape(-1, 1))"
   ]
  },
  {
   "cell_type": "code",
   "execution_count": 32,
   "metadata": {
    "id": "bwec4oG96Adu"
   },
   "outputs": [],
   "source": [
    "scaler_2 = StandardScaler()\n",
    "for i in df_2.drop([\"Purchase\"],axis=1).columns:\n",
    "    df_2[i] = scaler_2.fit_transform(df_2[i].values.reshape(-1, 1))"
   ]
  },
  {
   "cell_type": "code",
   "execution_count": 33,
   "metadata": {
    "id": "7mT85jxM6AXV"
   },
   "outputs": [],
   "source": [
    "scaler_3 = StandardScaler()\n",
    "for i in df_3.drop([\"Purchase\"],axis=1).columns:\n",
    "    df_3[i] = scaler_3.fit_transform(df_3[i].values.reshape(-1, 1))"
   ]
  },
  {
   "cell_type": "code",
   "execution_count": 34,
   "metadata": {
    "colab": {
     "base_uri": "https://localhost:8080/",
     "height": 226
    },
    "id": "EYfTKw2z9Lp6",
    "outputId": "895a5b3c-aeed-4570-ba52-268625861308"
   },
   "outputs": [
    {
     "data": {
      "text/html": [
       "<div>\n",
       "<style scoped>\n",
       "    .dataframe tbody tr th:only-of-type {\n",
       "        vertical-align: middle;\n",
       "    }\n",
       "\n",
       "    .dataframe tbody tr th {\n",
       "        vertical-align: top;\n",
       "    }\n",
       "\n",
       "    .dataframe thead th {\n",
       "        text-align: right;\n",
       "    }\n",
       "</style>\n",
       "<table border=\"1\" class=\"dataframe\">\n",
       "  <thead>\n",
       "    <tr style=\"text-align: right;\">\n",
       "      <th></th>\n",
       "      <th>Occupation</th>\n",
       "      <th>Marital_Status</th>\n",
       "      <th>Product_Category_1</th>\n",
       "      <th>Product_Category_2</th>\n",
       "      <th>Product_Category_3</th>\n",
       "      <th>Purchase</th>\n",
       "      <th>gender</th>\n",
       "      <th>age</th>\n",
       "      <th>city_residency_duration</th>\n",
       "      <th>product_popularity_score</th>\n",
       "    </tr>\n",
       "  </thead>\n",
       "  <tbody>\n",
       "    <tr>\n",
       "      <th>1</th>\n",
       "      <td>0.280711</td>\n",
       "      <td>-0.821334</td>\n",
       "      <td>-0.677075</td>\n",
       "      <td>-0.199293</td>\n",
       "      <td>0.322825</td>\n",
       "      <td>15200</td>\n",
       "      <td>-1.854033</td>\n",
       "      <td>-1.838907</td>\n",
       "      <td>0.107652</td>\n",
       "      <td>-0.081017</td>\n",
       "    </tr>\n",
       "    <tr>\n",
       "      <th>6</th>\n",
       "      <td>-0.181717</td>\n",
       "      <td>1.217531</td>\n",
       "      <td>-0.677075</td>\n",
       "      <td>0.245125</td>\n",
       "      <td>1.050040</td>\n",
       "      <td>19215</td>\n",
       "      <td>0.539365</td>\n",
       "      <td>1.157090</td>\n",
       "      <td>0.107652</td>\n",
       "      <td>2.070189</td>\n",
       "    </tr>\n",
       "    <tr>\n",
       "      <th>13</th>\n",
       "      <td>1.822136</td>\n",
       "      <td>1.217531</td>\n",
       "      <td>-0.677075</td>\n",
       "      <td>-1.088127</td>\n",
       "      <td>-1.858821</td>\n",
       "      <td>15665</td>\n",
       "      <td>0.539365</td>\n",
       "      <td>-0.340909</td>\n",
       "      <td>-0.670687</td>\n",
       "      <td>1.985042</td>\n",
       "    </tr>\n",
       "    <tr>\n",
       "      <th>14</th>\n",
       "      <td>0.126569</td>\n",
       "      <td>-0.821334</td>\n",
       "      <td>0.876949</td>\n",
       "      <td>0.245125</td>\n",
       "      <td>0.322825</td>\n",
       "      <td>5378</td>\n",
       "      <td>-1.854033</td>\n",
       "      <td>1.906089</td>\n",
       "      <td>-0.670687</td>\n",
       "      <td>-1.328165</td>\n",
       "    </tr>\n",
       "    <tr>\n",
       "      <th>16</th>\n",
       "      <td>0.126569</td>\n",
       "      <td>-0.821334</td>\n",
       "      <td>-0.288569</td>\n",
       "      <td>-0.865919</td>\n",
       "      <td>-2.101227</td>\n",
       "      <td>13055</td>\n",
       "      <td>-1.854033</td>\n",
       "      <td>1.906089</td>\n",
       "      <td>-0.670687</td>\n",
       "      <td>-1.100273</td>\n",
       "    </tr>\n",
       "  </tbody>\n",
       "</table>\n",
       "</div>"
      ],
      "text/plain": [
       "    Occupation  Marital_Status  Product_Category_1  Product_Category_2  \\\n",
       "1     0.280711       -0.821334           -0.677075           -0.199293   \n",
       "6    -0.181717        1.217531           -0.677075            0.245125   \n",
       "13    1.822136        1.217531           -0.677075           -1.088127   \n",
       "14    0.126569       -0.821334            0.876949            0.245125   \n",
       "16    0.126569       -0.821334           -0.288569           -0.865919   \n",
       "\n",
       "    Product_Category_3  Purchase    gender       age  city_residency_duration  \\\n",
       "1             0.322825     15200 -1.854033 -1.838907                 0.107652   \n",
       "6             1.050040     19215  0.539365  1.157090                 0.107652   \n",
       "13           -1.858821     15665  0.539365 -0.340909                -0.670687   \n",
       "14            0.322825      5378 -1.854033  1.906089                -0.670687   \n",
       "16           -2.101227     13055 -1.854033  1.906089                -0.670687   \n",
       "\n",
       "    product_popularity_score  \n",
       "1                  -0.081017  \n",
       "6                   2.070189  \n",
       "13                  1.985042  \n",
       "14                 -1.328165  \n",
       "16                 -1.100273  "
      ]
     },
     "execution_count": 34,
     "metadata": {},
     "output_type": "execute_result"
    }
   ],
   "source": [
    "df_3.head()"
   ]
  },
  {
   "cell_type": "code",
   "execution_count": 35,
   "metadata": {
    "id": "uYp8epcRFU5t"
   },
   "outputs": [],
   "source": [
    "x1 = df_1.drop([\"Purchase\"],axis=1)\n",
    "x2 = df_2.drop([\"Purchase\"],axis=1)\n",
    "x3 = df_3.drop([\"Purchase\"],axis=1)\n",
    "y1= df_1[[\"Purchase\"]]\n",
    "y2= df_2[[\"Purchase\"]]\n",
    "y3= df_3[[\"Purchase\"]]"
   ]
  },
  {
   "cell_type": "markdown",
   "metadata": {
    "id": "QjlmsYfX8bxD"
   },
   "source": [
    "# Feature selection"
   ]
  },
  {
   "cell_type": "code",
   "execution_count": 36,
   "metadata": {
    "id": "RTvU4Uhn8cKt"
   },
   "outputs": [
    {
     "name": "stdout",
     "output_type": "stream",
     "text": [
      "Occupation : 0 : 8.41\n",
      "Marital_Status : 1 : 1.2\n",
      "Product_Category_1 : 2 : 67.85\n",
      "gender : 3 : 0.8\n",
      "age : 4 : 2.98\n",
      "city_residency_duration : 5 : 4.12\n",
      "product_popularity_score : 6 : 14.65\n"
     ]
    }
   ],
   "source": [
    "imp_1 = ExtraTreesRegressor()\n",
    "imp_1.fit(x1,y1)\n",
    "for index,val in enumerate(imp_1.feature_importances_):\n",
    "    print(\"{0} : {1} : {2}\".format(x1.columns[index], index, round((val * 100),2)))"
   ]
  },
  {
   "cell_type": "code",
   "execution_count": 37,
   "metadata": {
    "id": "RwFGSAJFMXUc"
   },
   "outputs": [],
   "source": [
    "x1.drop(['Marital_Status','gender'],axis=1,inplace=True)"
   ]
  },
  {
   "cell_type": "code",
   "execution_count": 38,
   "metadata": {
    "id": "t7FFa6668zJe"
   },
   "outputs": [
    {
     "name": "stdout",
     "output_type": "stream",
     "text": [
      "Occupation : 0 : 8.3\n",
      "Marital_Status : 1 : 1.23\n",
      "Product_Category_1 : 2 : 62.08\n",
      "Product_Category_2 : 3 : 5.71\n",
      "gender : 4 : 0.81\n",
      "age : 5 : 3.84\n",
      "city_residency_duration : 6 : 4.49\n",
      "product_popularity_score : 7 : 13.55\n"
     ]
    }
   ],
   "source": [
    "imp_2 = ExtraTreesRegressor()\n",
    "imp_2.fit(x2,y2)\n",
    "for index,val in enumerate(imp_2.feature_importances_):\n",
    "    print(\"{0} : {1} : {2}\".format(x2.columns[index], index, round((val * 100),2)))"
   ]
  },
  {
   "cell_type": "code",
   "execution_count": 39,
   "metadata": {
    "id": "XE23jhaXMgJE"
   },
   "outputs": [],
   "source": [
    "x2.drop(['Marital_Status','gender'],axis=1,inplace=True)"
   ]
  },
  {
   "cell_type": "code",
   "execution_count": 40,
   "metadata": {
    "id": "QaIJe6c98y8_"
   },
   "outputs": [
    {
     "name": "stdout",
     "output_type": "stream",
     "text": [
      "Occupation : 0 : 13.69\n",
      "Marital_Status : 1 : 1.9\n",
      "Product_Category_1 : 2 : 45.21\n",
      "Product_Category_2 : 3 : 5.02\n",
      "Product_Category_3 : 4 : 3.82\n",
      "gender : 5 : 1.23\n",
      "age : 6 : 5.89\n",
      "city_residency_duration : 7 : 6.93\n",
      "product_popularity_score : 8 : 16.31\n"
     ]
    }
   ],
   "source": [
    "imp_3 = ExtraTreesRegressor()\n",
    "imp_3.fit(x3,y3)\n",
    "for index,val in enumerate(imp_3.feature_importances_):\n",
    "    print(\"{0} : {1} : {2}\".format(x3.columns[index], index, round((val * 100),2)))"
   ]
  },
  {
   "cell_type": "code",
   "execution_count": 41,
   "metadata": {
    "id": "dKAxliDlMhR5"
   },
   "outputs": [],
   "source": [
    "x3.drop(['Marital_Status','gender'],axis=1,inplace=True)"
   ]
  },
  {
   "cell_type": "markdown",
   "metadata": {
    "id": "weiJTq49JWiE"
   },
   "source": [
    "# Spliting"
   ]
  },
  {
   "cell_type": "code",
   "execution_count": 42,
   "metadata": {
    "id": "5U957gVXJV6t"
   },
   "outputs": [],
   "source": [
    "x1_train,x1_test,y1_train,y1_test = train_test_split(x1,y1,test_size=0.2,random_state= 96)\n",
    "x2_train,x2_test,y2_train,y2_test = train_test_split(x2,y2,test_size=0.2,random_state= 105)\n",
    "x3_train,x3_test,y3_train,y3_test = train_test_split(x3,y3,test_size=0.2,random_state= 23)"
   ]
  },
  {
   "cell_type": "markdown",
   "metadata": {
    "id": "uPqNkSGBKiad"
   },
   "source": [
    "# Model Evaluation and Selection"
   ]
  },
  {
   "cell_type": "markdown",
   "metadata": {
    "id": "DiQRf2mBL4vV"
   },
   "source": [
    "## Linear Regression"
   ]
  },
  {
   "cell_type": "code",
   "execution_count": 43,
   "metadata": {
    "id": "6WmzsE47pxEw"
   },
   "outputs": [],
   "source": [
    "lr_1 = LinearRegression()\n",
    "lr_2 = LinearRegression()\n",
    "lr_3 = LinearRegression()"
   ]
  },
  {
   "cell_type": "code",
   "execution_count": 44,
   "metadata": {
    "id": "fjVC25UMEfn7"
   },
   "outputs": [
    {
     "data": {
      "text/html": [
       "<style>#sk-container-id-1 {color: black;}#sk-container-id-1 pre{padding: 0;}#sk-container-id-1 div.sk-toggleable {background-color: white;}#sk-container-id-1 label.sk-toggleable__label {cursor: pointer;display: block;width: 100%;margin-bottom: 0;padding: 0.3em;box-sizing: border-box;text-align: center;}#sk-container-id-1 label.sk-toggleable__label-arrow:before {content: \"▸\";float: left;margin-right: 0.25em;color: #696969;}#sk-container-id-1 label.sk-toggleable__label-arrow:hover:before {color: black;}#sk-container-id-1 div.sk-estimator:hover label.sk-toggleable__label-arrow:before {color: black;}#sk-container-id-1 div.sk-toggleable__content {max-height: 0;max-width: 0;overflow: hidden;text-align: left;background-color: #f0f8ff;}#sk-container-id-1 div.sk-toggleable__content pre {margin: 0.2em;color: black;border-radius: 0.25em;background-color: #f0f8ff;}#sk-container-id-1 input.sk-toggleable__control:checked~div.sk-toggleable__content {max-height: 200px;max-width: 100%;overflow: auto;}#sk-container-id-1 input.sk-toggleable__control:checked~label.sk-toggleable__label-arrow:before {content: \"▾\";}#sk-container-id-1 div.sk-estimator input.sk-toggleable__control:checked~label.sk-toggleable__label {background-color: #d4ebff;}#sk-container-id-1 div.sk-label input.sk-toggleable__control:checked~label.sk-toggleable__label {background-color: #d4ebff;}#sk-container-id-1 input.sk-hidden--visually {border: 0;clip: rect(1px 1px 1px 1px);clip: rect(1px, 1px, 1px, 1px);height: 1px;margin: -1px;overflow: hidden;padding: 0;position: absolute;width: 1px;}#sk-container-id-1 div.sk-estimator {font-family: monospace;background-color: #f0f8ff;border: 1px dotted black;border-radius: 0.25em;box-sizing: border-box;margin-bottom: 0.5em;}#sk-container-id-1 div.sk-estimator:hover {background-color: #d4ebff;}#sk-container-id-1 div.sk-parallel-item::after {content: \"\";width: 100%;border-bottom: 1px solid gray;flex-grow: 1;}#sk-container-id-1 div.sk-label:hover label.sk-toggleable__label {background-color: #d4ebff;}#sk-container-id-1 div.sk-serial::before {content: \"\";position: absolute;border-left: 1px solid gray;box-sizing: border-box;top: 0;bottom: 0;left: 50%;z-index: 0;}#sk-container-id-1 div.sk-serial {display: flex;flex-direction: column;align-items: center;background-color: white;padding-right: 0.2em;padding-left: 0.2em;position: relative;}#sk-container-id-1 div.sk-item {position: relative;z-index: 1;}#sk-container-id-1 div.sk-parallel {display: flex;align-items: stretch;justify-content: center;background-color: white;position: relative;}#sk-container-id-1 div.sk-item::before, #sk-container-id-1 div.sk-parallel-item::before {content: \"\";position: absolute;border-left: 1px solid gray;box-sizing: border-box;top: 0;bottom: 0;left: 50%;z-index: -1;}#sk-container-id-1 div.sk-parallel-item {display: flex;flex-direction: column;z-index: 1;position: relative;background-color: white;}#sk-container-id-1 div.sk-parallel-item:first-child::after {align-self: flex-end;width: 50%;}#sk-container-id-1 div.sk-parallel-item:last-child::after {align-self: flex-start;width: 50%;}#sk-container-id-1 div.sk-parallel-item:only-child::after {width: 0;}#sk-container-id-1 div.sk-dashed-wrapped {border: 1px dashed gray;margin: 0 0.4em 0.5em 0.4em;box-sizing: border-box;padding-bottom: 0.4em;background-color: white;}#sk-container-id-1 div.sk-label label {font-family: monospace;font-weight: bold;display: inline-block;line-height: 1.2em;}#sk-container-id-1 div.sk-label-container {text-align: center;}#sk-container-id-1 div.sk-container {/* jupyter's `normalize.less` sets `[hidden] { display: none; }` but bootstrap.min.css set `[hidden] { display: none !important; }` so we also need the `!important` here to be able to override the default hidden behavior on the sphinx rendered scikit-learn.org. See: https://github.com/scikit-learn/scikit-learn/issues/21755 */display: inline-block !important;position: relative;}#sk-container-id-1 div.sk-text-repr-fallback {display: none;}</style><div id=\"sk-container-id-1\" class=\"sk-top-container\"><div class=\"sk-text-repr-fallback\"><pre>LinearRegression()</pre><b>In a Jupyter environment, please rerun this cell to show the HTML representation or trust the notebook. <br />On GitHub, the HTML representation is unable to render, please try loading this page with nbviewer.org.</b></div><div class=\"sk-container\" hidden><div class=\"sk-item\"><div class=\"sk-estimator sk-toggleable\"><input class=\"sk-toggleable__control sk-hidden--visually\" id=\"sk-estimator-id-1\" type=\"checkbox\" checked><label for=\"sk-estimator-id-1\" class=\"sk-toggleable__label sk-toggleable__label-arrow\">LinearRegression</label><div class=\"sk-toggleable__content\"><pre>LinearRegression()</pre></div></div></div></div></div>"
      ],
      "text/plain": [
       "LinearRegression()"
      ]
     },
     "execution_count": 44,
     "metadata": {},
     "output_type": "execute_result"
    }
   ],
   "source": [
    "lr_1.fit(x1_train,y1_train)\n",
    "lr_2.fit(x2_train,y2_train)\n",
    "lr_3.fit(x3_train,y3_train)"
   ]
  },
  {
   "cell_type": "code",
   "execution_count": 45,
   "metadata": {
    "id": "iU9DINlwKSHc"
   },
   "outputs": [],
   "source": [
    "y1_train_pred = lr_1.predict(x1_train)\n",
    "y2_train_pred = lr_2.predict(x2_train)\n",
    "y3_train_pred = lr_3.predict(x3_train)"
   ]
  },
  {
   "cell_type": "code",
   "execution_count": 46,
   "metadata": {
    "id": "lorL9v8kp7I3"
   },
   "outputs": [],
   "source": [
    "y1_test_pred = lr_1.predict(x1_test)\n",
    "y2_test_pred = lr_2.predict(x2_test)\n",
    "y3_test_pred = lr_3.predict(x3_test)"
   ]
  },
  {
   "cell_type": "code",
   "execution_count": 47,
   "metadata": {
    "id": "R0pirMrqGIUL"
   },
   "outputs": [],
   "source": [
    "def reg_eval(model : str, y_train, y_test, y_train_pred, y_test_pred):\n",
    "    data =   {model:\n",
    "              {\"Train\":\n",
    "                  {\n",
    "                      'MSE': mean_squared_error(y_train,y_train_pred) ,\n",
    "                      'RMSE': np.square(mean_squared_error(y_train,y_train_pred)),\n",
    "                      'R2_score': r2_score(y_train,y_train_pred),\n",
    "                  },\n",
    "               \"Test\":\n",
    "                  {\n",
    "                      'MSE': mean_squared_error(y_test,y_test_pred),\n",
    "                      'RMSE': np.square(mean_squared_error(y_test,y_test_pred)),\n",
    "                      'R2_score': r2_score(y_test,y_test_pred),\n",
    "\n",
    "                  }\n",
    "               }\n",
    "            }\n",
    "    return pd.DataFrame.from_dict({(i, j): data[i][j]\n",
    "                              for i in data.keys()\n",
    "                              for j in data[i].keys()},\n",
    "                             orient='index')\n"
   ]
  },
  {
   "cell_type": "code",
   "execution_count": 48,
   "metadata": {
    "id": "rBtb2uW1IVBr"
   },
   "outputs": [
    {
     "data": {
      "text/html": [
       "<div>\n",
       "<style scoped>\n",
       "    .dataframe tbody tr th:only-of-type {\n",
       "        vertical-align: middle;\n",
       "    }\n",
       "\n",
       "    .dataframe tbody tr th {\n",
       "        vertical-align: top;\n",
       "    }\n",
       "\n",
       "    .dataframe thead th {\n",
       "        text-align: right;\n",
       "    }\n",
       "</style>\n",
       "<table border=\"1\" class=\"dataframe\">\n",
       "  <thead>\n",
       "    <tr style=\"text-align: right;\">\n",
       "      <th></th>\n",
       "      <th></th>\n",
       "      <th>MSE</th>\n",
       "      <th>RMSE</th>\n",
       "      <th>R2_score</th>\n",
       "    </tr>\n",
       "  </thead>\n",
       "  <tbody>\n",
       "    <tr>\n",
       "      <th rowspan=\"2\" valign=\"top\">Linear Regression_1</th>\n",
       "      <th>Train</th>\n",
       "      <td>1.707873e+07</td>\n",
       "      <td>2.916830e+14</td>\n",
       "      <td>0.003061</td>\n",
       "    </tr>\n",
       "    <tr>\n",
       "      <th>Test</th>\n",
       "      <td>1.724698e+07</td>\n",
       "      <td>2.974584e+14</td>\n",
       "      <td>0.001579</td>\n",
       "    </tr>\n",
       "  </tbody>\n",
       "</table>\n",
       "</div>"
      ],
      "text/plain": [
       "                                    MSE          RMSE  R2_score\n",
       "Linear Regression_1 Train  1.707873e+07  2.916830e+14  0.003061\n",
       "                    Test   1.724698e+07  2.974584e+14  0.001579"
      ]
     },
     "execution_count": 48,
     "metadata": {},
     "output_type": "execute_result"
    }
   ],
   "source": [
    "reg_eval(\"Linear Regression_1\", y1_train, y1_test, y1_train_pred, y1_test_pred)"
   ]
  },
  {
   "cell_type": "code",
   "execution_count": 49,
   "metadata": {
    "id": "FCEE4X3cDmXY"
   },
   "outputs": [
    {
     "data": {
      "text/html": [
       "<div>\n",
       "<style scoped>\n",
       "    .dataframe tbody tr th:only-of-type {\n",
       "        vertical-align: middle;\n",
       "    }\n",
       "\n",
       "    .dataframe tbody tr th {\n",
       "        vertical-align: top;\n",
       "    }\n",
       "\n",
       "    .dataframe thead th {\n",
       "        text-align: right;\n",
       "    }\n",
       "</style>\n",
       "<table border=\"1\" class=\"dataframe\">\n",
       "  <thead>\n",
       "    <tr style=\"text-align: right;\">\n",
       "      <th></th>\n",
       "      <th></th>\n",
       "      <th>MSE</th>\n",
       "      <th>RMSE</th>\n",
       "      <th>R2_score</th>\n",
       "    </tr>\n",
       "  </thead>\n",
       "  <tbody>\n",
       "    <tr>\n",
       "      <th rowspan=\"2\" valign=\"top\">Linear Regression_2</th>\n",
       "      <th>Train</th>\n",
       "      <td>2.020810e+07</td>\n",
       "      <td>4.083675e+14</td>\n",
       "      <td>0.161897</td>\n",
       "    </tr>\n",
       "    <tr>\n",
       "      <th>Test</th>\n",
       "      <td>2.049891e+07</td>\n",
       "      <td>4.202052e+14</td>\n",
       "      <td>0.155601</td>\n",
       "    </tr>\n",
       "  </tbody>\n",
       "</table>\n",
       "</div>"
      ],
      "text/plain": [
       "                                    MSE          RMSE  R2_score\n",
       "Linear Regression_2 Train  2.020810e+07  4.083675e+14  0.161897\n",
       "                    Test   2.049891e+07  4.202052e+14  0.155601"
      ]
     },
     "execution_count": 49,
     "metadata": {},
     "output_type": "execute_result"
    }
   ],
   "source": [
    "reg_eval(\"Linear Regression_2\", y2_train, y2_test, y2_train_pred, y2_test_pred)"
   ]
  },
  {
   "cell_type": "code",
   "execution_count": 50,
   "metadata": {
    "id": "GoGlATyp89Nr"
   },
   "outputs": [
    {
     "data": {
      "text/html": [
       "<div>\n",
       "<style scoped>\n",
       "    .dataframe tbody tr th:only-of-type {\n",
       "        vertical-align: middle;\n",
       "    }\n",
       "\n",
       "    .dataframe tbody tr th {\n",
       "        vertical-align: top;\n",
       "    }\n",
       "\n",
       "    .dataframe thead th {\n",
       "        text-align: right;\n",
       "    }\n",
       "</style>\n",
       "<table border=\"1\" class=\"dataframe\">\n",
       "  <thead>\n",
       "    <tr style=\"text-align: right;\">\n",
       "      <th></th>\n",
       "      <th></th>\n",
       "      <th>MSE</th>\n",
       "      <th>RMSE</th>\n",
       "      <th>R2_score</th>\n",
       "    </tr>\n",
       "  </thead>\n",
       "  <tbody>\n",
       "    <tr>\n",
       "      <th rowspan=\"2\" valign=\"top\">Linear Regression_3</th>\n",
       "      <th>Train</th>\n",
       "      <td>1.970715e+07</td>\n",
       "      <td>3.883719e+14</td>\n",
       "      <td>0.237451</td>\n",
       "    </tr>\n",
       "    <tr>\n",
       "      <th>Test</th>\n",
       "      <td>1.967691e+07</td>\n",
       "      <td>3.871807e+14</td>\n",
       "      <td>0.236469</td>\n",
       "    </tr>\n",
       "  </tbody>\n",
       "</table>\n",
       "</div>"
      ],
      "text/plain": [
       "                                    MSE          RMSE  R2_score\n",
       "Linear Regression_3 Train  1.970715e+07  3.883719e+14  0.237451\n",
       "                    Test   1.967691e+07  3.871807e+14  0.236469"
      ]
     },
     "execution_count": 50,
     "metadata": {},
     "output_type": "execute_result"
    }
   ],
   "source": [
    "reg_eval(\"Linear Regression_3\", y3_train, y3_test, y3_train_pred, y3_test_pred)"
   ]
  },
  {
   "cell_type": "markdown",
   "metadata": {
    "id": "rn-xTMkaNxdR"
   },
   "source": [
    "## Decision Tree"
   ]
  },
  {
   "cell_type": "code",
   "execution_count": 51,
   "metadata": {
    "id": "Rm9o4rA289Db"
   },
   "outputs": [],
   "source": [
    "dctr_1 = DecisionTreeRegressor()\n",
    "dctr_2 = DecisionTreeRegressor()\n",
    "dctr_3 = DecisionTreeRegressor()"
   ]
  },
  {
   "cell_type": "code",
   "execution_count": 52,
   "metadata": {
    "id": "bwdFEMZtNwnO"
   },
   "outputs": [
    {
     "data": {
      "text/html": [
       "<style>#sk-container-id-2 {color: black;}#sk-container-id-2 pre{padding: 0;}#sk-container-id-2 div.sk-toggleable {background-color: white;}#sk-container-id-2 label.sk-toggleable__label {cursor: pointer;display: block;width: 100%;margin-bottom: 0;padding: 0.3em;box-sizing: border-box;text-align: center;}#sk-container-id-2 label.sk-toggleable__label-arrow:before {content: \"▸\";float: left;margin-right: 0.25em;color: #696969;}#sk-container-id-2 label.sk-toggleable__label-arrow:hover:before {color: black;}#sk-container-id-2 div.sk-estimator:hover label.sk-toggleable__label-arrow:before {color: black;}#sk-container-id-2 div.sk-toggleable__content {max-height: 0;max-width: 0;overflow: hidden;text-align: left;background-color: #f0f8ff;}#sk-container-id-2 div.sk-toggleable__content pre {margin: 0.2em;color: black;border-radius: 0.25em;background-color: #f0f8ff;}#sk-container-id-2 input.sk-toggleable__control:checked~div.sk-toggleable__content {max-height: 200px;max-width: 100%;overflow: auto;}#sk-container-id-2 input.sk-toggleable__control:checked~label.sk-toggleable__label-arrow:before {content: \"▾\";}#sk-container-id-2 div.sk-estimator input.sk-toggleable__control:checked~label.sk-toggleable__label {background-color: #d4ebff;}#sk-container-id-2 div.sk-label input.sk-toggleable__control:checked~label.sk-toggleable__label {background-color: #d4ebff;}#sk-container-id-2 input.sk-hidden--visually {border: 0;clip: rect(1px 1px 1px 1px);clip: rect(1px, 1px, 1px, 1px);height: 1px;margin: -1px;overflow: hidden;padding: 0;position: absolute;width: 1px;}#sk-container-id-2 div.sk-estimator {font-family: monospace;background-color: #f0f8ff;border: 1px dotted black;border-radius: 0.25em;box-sizing: border-box;margin-bottom: 0.5em;}#sk-container-id-2 div.sk-estimator:hover {background-color: #d4ebff;}#sk-container-id-2 div.sk-parallel-item::after {content: \"\";width: 100%;border-bottom: 1px solid gray;flex-grow: 1;}#sk-container-id-2 div.sk-label:hover label.sk-toggleable__label {background-color: #d4ebff;}#sk-container-id-2 div.sk-serial::before {content: \"\";position: absolute;border-left: 1px solid gray;box-sizing: border-box;top: 0;bottom: 0;left: 50%;z-index: 0;}#sk-container-id-2 div.sk-serial {display: flex;flex-direction: column;align-items: center;background-color: white;padding-right: 0.2em;padding-left: 0.2em;position: relative;}#sk-container-id-2 div.sk-item {position: relative;z-index: 1;}#sk-container-id-2 div.sk-parallel {display: flex;align-items: stretch;justify-content: center;background-color: white;position: relative;}#sk-container-id-2 div.sk-item::before, #sk-container-id-2 div.sk-parallel-item::before {content: \"\";position: absolute;border-left: 1px solid gray;box-sizing: border-box;top: 0;bottom: 0;left: 50%;z-index: -1;}#sk-container-id-2 div.sk-parallel-item {display: flex;flex-direction: column;z-index: 1;position: relative;background-color: white;}#sk-container-id-2 div.sk-parallel-item:first-child::after {align-self: flex-end;width: 50%;}#sk-container-id-2 div.sk-parallel-item:last-child::after {align-self: flex-start;width: 50%;}#sk-container-id-2 div.sk-parallel-item:only-child::after {width: 0;}#sk-container-id-2 div.sk-dashed-wrapped {border: 1px dashed gray;margin: 0 0.4em 0.5em 0.4em;box-sizing: border-box;padding-bottom: 0.4em;background-color: white;}#sk-container-id-2 div.sk-label label {font-family: monospace;font-weight: bold;display: inline-block;line-height: 1.2em;}#sk-container-id-2 div.sk-label-container {text-align: center;}#sk-container-id-2 div.sk-container {/* jupyter's `normalize.less` sets `[hidden] { display: none; }` but bootstrap.min.css set `[hidden] { display: none !important; }` so we also need the `!important` here to be able to override the default hidden behavior on the sphinx rendered scikit-learn.org. See: https://github.com/scikit-learn/scikit-learn/issues/21755 */display: inline-block !important;position: relative;}#sk-container-id-2 div.sk-text-repr-fallback {display: none;}</style><div id=\"sk-container-id-2\" class=\"sk-top-container\"><div class=\"sk-text-repr-fallback\"><pre>DecisionTreeRegressor()</pre><b>In a Jupyter environment, please rerun this cell to show the HTML representation or trust the notebook. <br />On GitHub, the HTML representation is unable to render, please try loading this page with nbviewer.org.</b></div><div class=\"sk-container\" hidden><div class=\"sk-item\"><div class=\"sk-estimator sk-toggleable\"><input class=\"sk-toggleable__control sk-hidden--visually\" id=\"sk-estimator-id-2\" type=\"checkbox\" checked><label for=\"sk-estimator-id-2\" class=\"sk-toggleable__label sk-toggleable__label-arrow\">DecisionTreeRegressor</label><div class=\"sk-toggleable__content\"><pre>DecisionTreeRegressor()</pre></div></div></div></div></div>"
      ],
      "text/plain": [
       "DecisionTreeRegressor()"
      ]
     },
     "execution_count": 52,
     "metadata": {},
     "output_type": "execute_result"
    }
   ],
   "source": [
    "dctr_1.fit(x1_train,y1_train)\n",
    "dctr_2.fit(x2_train,y2_train)\n",
    "dctr_3.fit(x3_train,y3_train)"
   ]
  },
  {
   "cell_type": "code",
   "execution_count": 53,
   "metadata": {
    "id": "Pjc2sJ27NwkD"
   },
   "outputs": [],
   "source": [
    "dctr_1_y1_train_pred = dctr_1.predict(x1_train)\n",
    "dctr_2_y2_train_pred = dctr_2.predict(x2_train)\n",
    "dctr_3_y3_train_pred = dctr_3.predict(x3_train)"
   ]
  },
  {
   "cell_type": "code",
   "execution_count": 54,
   "metadata": {
    "id": "w8lqOnkyNwfT"
   },
   "outputs": [],
   "source": [
    "dctr_1_y1_test_pred = dctr_1.predict(x1_test)\n",
    "dctr_2_y2_test_pred = dctr_2.predict(x2_test)\n",
    "dctr_3_y3_test_pred = dctr_3.predict(x3_test)"
   ]
  },
  {
   "cell_type": "code",
   "execution_count": 55,
   "metadata": {
    "id": "h3GookIZNwcE"
   },
   "outputs": [
    {
     "data": {
      "text/html": [
       "<div>\n",
       "<style scoped>\n",
       "    .dataframe tbody tr th:only-of-type {\n",
       "        vertical-align: middle;\n",
       "    }\n",
       "\n",
       "    .dataframe tbody tr th {\n",
       "        vertical-align: top;\n",
       "    }\n",
       "\n",
       "    .dataframe thead th {\n",
       "        text-align: right;\n",
       "    }\n",
       "</style>\n",
       "<table border=\"1\" class=\"dataframe\">\n",
       "  <thead>\n",
       "    <tr style=\"text-align: right;\">\n",
       "      <th></th>\n",
       "      <th></th>\n",
       "      <th>MSE</th>\n",
       "      <th>RMSE</th>\n",
       "      <th>R2_score</th>\n",
       "    </tr>\n",
       "  </thead>\n",
       "  <tbody>\n",
       "    <tr>\n",
       "      <th rowspan=\"2\" valign=\"top\">Decision Tree Regression_1</th>\n",
       "      <th>Train</th>\n",
       "      <td>1.688623e+06</td>\n",
       "      <td>2.851448e+12</td>\n",
       "      <td>0.901430</td>\n",
       "    </tr>\n",
       "    <tr>\n",
       "      <th>Test</th>\n",
       "      <td>8.135345e+06</td>\n",
       "      <td>6.618384e+13</td>\n",
       "      <td>0.529048</td>\n",
       "    </tr>\n",
       "  </tbody>\n",
       "</table>\n",
       "</div>"
      ],
      "text/plain": [
       "                                           MSE          RMSE  R2_score\n",
       "Decision Tree Regression_1 Train  1.688623e+06  2.851448e+12  0.901430\n",
       "                           Test   8.135345e+06  6.618384e+13  0.529048"
      ]
     },
     "execution_count": 55,
     "metadata": {},
     "output_type": "execute_result"
    }
   ],
   "source": [
    "reg_eval(\"Decision Tree Regression_1\", y1_train, y1_test, dctr_1_y1_train_pred, dctr_1_y1_test_pred)"
   ]
  },
  {
   "cell_type": "code",
   "execution_count": 56,
   "metadata": {
    "id": "1FbOzOirNwVK"
   },
   "outputs": [
    {
     "data": {
      "text/html": [
       "<div>\n",
       "<style scoped>\n",
       "    .dataframe tbody tr th:only-of-type {\n",
       "        vertical-align: middle;\n",
       "    }\n",
       "\n",
       "    .dataframe tbody tr th {\n",
       "        vertical-align: top;\n",
       "    }\n",
       "\n",
       "    .dataframe thead th {\n",
       "        text-align: right;\n",
       "    }\n",
       "</style>\n",
       "<table border=\"1\" class=\"dataframe\">\n",
       "  <thead>\n",
       "    <tr style=\"text-align: right;\">\n",
       "      <th></th>\n",
       "      <th></th>\n",
       "      <th>MSE</th>\n",
       "      <th>RMSE</th>\n",
       "      <th>R2_score</th>\n",
       "    </tr>\n",
       "  </thead>\n",
       "  <tbody>\n",
       "    <tr>\n",
       "      <th rowspan=\"2\" valign=\"top\">Decision Tree Regression_2</th>\n",
       "      <th>Train</th>\n",
       "      <td>2.526571e+06</td>\n",
       "      <td>6.383560e+12</td>\n",
       "      <td>0.895214</td>\n",
       "    </tr>\n",
       "    <tr>\n",
       "      <th>Test</th>\n",
       "      <td>1.047811e+07</td>\n",
       "      <td>1.097908e+14</td>\n",
       "      <td>0.568382</td>\n",
       "    </tr>\n",
       "  </tbody>\n",
       "</table>\n",
       "</div>"
      ],
      "text/plain": [
       "                                           MSE          RMSE  R2_score\n",
       "Decision Tree Regression_2 Train  2.526571e+06  6.383560e+12  0.895214\n",
       "                           Test   1.047811e+07  1.097908e+14  0.568382"
      ]
     },
     "execution_count": 56,
     "metadata": {},
     "output_type": "execute_result"
    }
   ],
   "source": [
    "reg_eval(\"Decision Tree Regression_2\", y2_train, y2_test, dctr_2_y2_train_pred, dctr_2_y2_test_pred)"
   ]
  },
  {
   "cell_type": "code",
   "execution_count": 57,
   "metadata": {
    "id": "YLGC34WsOrTB"
   },
   "outputs": [
    {
     "data": {
      "text/html": [
       "<div>\n",
       "<style scoped>\n",
       "    .dataframe tbody tr th:only-of-type {\n",
       "        vertical-align: middle;\n",
       "    }\n",
       "\n",
       "    .dataframe tbody tr th {\n",
       "        vertical-align: top;\n",
       "    }\n",
       "\n",
       "    .dataframe thead th {\n",
       "        text-align: right;\n",
       "    }\n",
       "</style>\n",
       "<table border=\"1\" class=\"dataframe\">\n",
       "  <thead>\n",
       "    <tr style=\"text-align: right;\">\n",
       "      <th></th>\n",
       "      <th></th>\n",
       "      <th>MSE</th>\n",
       "      <th>RMSE</th>\n",
       "      <th>R2_score</th>\n",
       "    </tr>\n",
       "  </thead>\n",
       "  <tbody>\n",
       "    <tr>\n",
       "      <th rowspan=\"2\" valign=\"top\">Decision Tree Regression_3</th>\n",
       "      <th>Train</th>\n",
       "      <td>5.013505e+06</td>\n",
       "      <td>2.513523e+13</td>\n",
       "      <td>0.806007</td>\n",
       "    </tr>\n",
       "    <tr>\n",
       "      <th>Test</th>\n",
       "      <td>1.639268e+07</td>\n",
       "      <td>2.687200e+14</td>\n",
       "      <td>0.363908</td>\n",
       "    </tr>\n",
       "  </tbody>\n",
       "</table>\n",
       "</div>"
      ],
      "text/plain": [
       "                                           MSE          RMSE  R2_score\n",
       "Decision Tree Regression_3 Train  5.013505e+06  2.513523e+13  0.806007\n",
       "                           Test   1.639268e+07  2.687200e+14  0.363908"
      ]
     },
     "execution_count": 57,
     "metadata": {},
     "output_type": "execute_result"
    }
   ],
   "source": [
    "reg_eval(\"Decision Tree Regression_3\", y3_train, y3_test, dctr_3_y3_train_pred, dctr_3_y3_test_pred)"
   ]
  },
  {
   "cell_type": "markdown",
   "metadata": {
    "id": "rtxntBzdPa4z"
   },
   "source": [
    "## RandomForest"
   ]
  },
  {
   "cell_type": "code",
   "execution_count": 58,
   "metadata": {
    "id": "ss3_dhLhPBDi"
   },
   "outputs": [],
   "source": [
    "rfr_1 = RandomForestRegressor()\n",
    "rfr_2 = RandomForestRegressor()\n",
    "rfr_3 = RandomForestRegressor()"
   ]
  },
  {
   "cell_type": "code",
   "execution_count": 59,
   "metadata": {
    "id": "Uif2yxQLPA_n"
   },
   "outputs": [
    {
     "data": {
      "text/html": [
       "<style>#sk-container-id-3 {color: black;}#sk-container-id-3 pre{padding: 0;}#sk-container-id-3 div.sk-toggleable {background-color: white;}#sk-container-id-3 label.sk-toggleable__label {cursor: pointer;display: block;width: 100%;margin-bottom: 0;padding: 0.3em;box-sizing: border-box;text-align: center;}#sk-container-id-3 label.sk-toggleable__label-arrow:before {content: \"▸\";float: left;margin-right: 0.25em;color: #696969;}#sk-container-id-3 label.sk-toggleable__label-arrow:hover:before {color: black;}#sk-container-id-3 div.sk-estimator:hover label.sk-toggleable__label-arrow:before {color: black;}#sk-container-id-3 div.sk-toggleable__content {max-height: 0;max-width: 0;overflow: hidden;text-align: left;background-color: #f0f8ff;}#sk-container-id-3 div.sk-toggleable__content pre {margin: 0.2em;color: black;border-radius: 0.25em;background-color: #f0f8ff;}#sk-container-id-3 input.sk-toggleable__control:checked~div.sk-toggleable__content {max-height: 200px;max-width: 100%;overflow: auto;}#sk-container-id-3 input.sk-toggleable__control:checked~label.sk-toggleable__label-arrow:before {content: \"▾\";}#sk-container-id-3 div.sk-estimator input.sk-toggleable__control:checked~label.sk-toggleable__label {background-color: #d4ebff;}#sk-container-id-3 div.sk-label input.sk-toggleable__control:checked~label.sk-toggleable__label {background-color: #d4ebff;}#sk-container-id-3 input.sk-hidden--visually {border: 0;clip: rect(1px 1px 1px 1px);clip: rect(1px, 1px, 1px, 1px);height: 1px;margin: -1px;overflow: hidden;padding: 0;position: absolute;width: 1px;}#sk-container-id-3 div.sk-estimator {font-family: monospace;background-color: #f0f8ff;border: 1px dotted black;border-radius: 0.25em;box-sizing: border-box;margin-bottom: 0.5em;}#sk-container-id-3 div.sk-estimator:hover {background-color: #d4ebff;}#sk-container-id-3 div.sk-parallel-item::after {content: \"\";width: 100%;border-bottom: 1px solid gray;flex-grow: 1;}#sk-container-id-3 div.sk-label:hover label.sk-toggleable__label {background-color: #d4ebff;}#sk-container-id-3 div.sk-serial::before {content: \"\";position: absolute;border-left: 1px solid gray;box-sizing: border-box;top: 0;bottom: 0;left: 50%;z-index: 0;}#sk-container-id-3 div.sk-serial {display: flex;flex-direction: column;align-items: center;background-color: white;padding-right: 0.2em;padding-left: 0.2em;position: relative;}#sk-container-id-3 div.sk-item {position: relative;z-index: 1;}#sk-container-id-3 div.sk-parallel {display: flex;align-items: stretch;justify-content: center;background-color: white;position: relative;}#sk-container-id-3 div.sk-item::before, #sk-container-id-3 div.sk-parallel-item::before {content: \"\";position: absolute;border-left: 1px solid gray;box-sizing: border-box;top: 0;bottom: 0;left: 50%;z-index: -1;}#sk-container-id-3 div.sk-parallel-item {display: flex;flex-direction: column;z-index: 1;position: relative;background-color: white;}#sk-container-id-3 div.sk-parallel-item:first-child::after {align-self: flex-end;width: 50%;}#sk-container-id-3 div.sk-parallel-item:last-child::after {align-self: flex-start;width: 50%;}#sk-container-id-3 div.sk-parallel-item:only-child::after {width: 0;}#sk-container-id-3 div.sk-dashed-wrapped {border: 1px dashed gray;margin: 0 0.4em 0.5em 0.4em;box-sizing: border-box;padding-bottom: 0.4em;background-color: white;}#sk-container-id-3 div.sk-label label {font-family: monospace;font-weight: bold;display: inline-block;line-height: 1.2em;}#sk-container-id-3 div.sk-label-container {text-align: center;}#sk-container-id-3 div.sk-container {/* jupyter's `normalize.less` sets `[hidden] { display: none; }` but bootstrap.min.css set `[hidden] { display: none !important; }` so we also need the `!important` here to be able to override the default hidden behavior on the sphinx rendered scikit-learn.org. See: https://github.com/scikit-learn/scikit-learn/issues/21755 */display: inline-block !important;position: relative;}#sk-container-id-3 div.sk-text-repr-fallback {display: none;}</style><div id=\"sk-container-id-3\" class=\"sk-top-container\"><div class=\"sk-text-repr-fallback\"><pre>RandomForestRegressor()</pre><b>In a Jupyter environment, please rerun this cell to show the HTML representation or trust the notebook. <br />On GitHub, the HTML representation is unable to render, please try loading this page with nbviewer.org.</b></div><div class=\"sk-container\" hidden><div class=\"sk-item\"><div class=\"sk-estimator sk-toggleable\"><input class=\"sk-toggleable__control sk-hidden--visually\" id=\"sk-estimator-id-3\" type=\"checkbox\" checked><label for=\"sk-estimator-id-3\" class=\"sk-toggleable__label sk-toggleable__label-arrow\">RandomForestRegressor</label><div class=\"sk-toggleable__content\"><pre>RandomForestRegressor()</pre></div></div></div></div></div>"
      ],
      "text/plain": [
       "RandomForestRegressor()"
      ]
     },
     "execution_count": 59,
     "metadata": {},
     "output_type": "execute_result"
    }
   ],
   "source": [
    "rfr_1.fit(x1_train,y1_train)\n",
    "rfr_2.fit(x2_train,y2_train)\n",
    "rfr_3.fit(x3_train,y3_train)"
   ]
  },
  {
   "cell_type": "code",
   "execution_count": 60,
   "metadata": {
    "id": "f0UlN331PA8B"
   },
   "outputs": [],
   "source": [
    "rfr_1_y1_train_pred = rfr_1.predict(x1_train)\n",
    "rfr_2_y2_train_pred = rfr_2.predict(x2_train)\n",
    "rfr_3_y3_train_pred = rfr_3.predict(x3_train)"
   ]
  },
  {
   "cell_type": "code",
   "execution_count": 61,
   "metadata": {
    "id": "rr_SMGQaPA3Q"
   },
   "outputs": [],
   "source": [
    "rfr_1_y1_test_pred = rfr_1.predict(x1_test)\n",
    "rfr_2_y2_test_pred = rfr_2.predict(x2_test)\n",
    "rfr_3_y3_test_pred = rfr_3.predict(x3_test)"
   ]
  },
  {
   "cell_type": "code",
   "execution_count": 62,
   "metadata": {
    "id": "-URa7pihPAf7"
   },
   "outputs": [
    {
     "data": {
      "text/html": [
       "<div>\n",
       "<style scoped>\n",
       "    .dataframe tbody tr th:only-of-type {\n",
       "        vertical-align: middle;\n",
       "    }\n",
       "\n",
       "    .dataframe tbody tr th {\n",
       "        vertical-align: top;\n",
       "    }\n",
       "\n",
       "    .dataframe thead th {\n",
       "        text-align: right;\n",
       "    }\n",
       "</style>\n",
       "<table border=\"1\" class=\"dataframe\">\n",
       "  <thead>\n",
       "    <tr style=\"text-align: right;\">\n",
       "      <th></th>\n",
       "      <th></th>\n",
       "      <th>MSE</th>\n",
       "      <th>RMSE</th>\n",
       "      <th>R2_score</th>\n",
       "    </tr>\n",
       "  </thead>\n",
       "  <tbody>\n",
       "    <tr>\n",
       "      <th rowspan=\"2\" valign=\"top\">RandomForest Regression_1</th>\n",
       "      <th>Train</th>\n",
       "      <td>2.059372e+06</td>\n",
       "      <td>4.241015e+12</td>\n",
       "      <td>0.879788</td>\n",
       "    </tr>\n",
       "    <tr>\n",
       "      <th>Test</th>\n",
       "      <td>5.863885e+06</td>\n",
       "      <td>3.438515e+13</td>\n",
       "      <td>0.660542</td>\n",
       "    </tr>\n",
       "  </tbody>\n",
       "</table>\n",
       "</div>"
      ],
      "text/plain": [
       "                                          MSE          RMSE  R2_score\n",
       "RandomForest Regression_1 Train  2.059372e+06  4.241015e+12  0.879788\n",
       "                          Test   5.863885e+06  3.438515e+13  0.660542"
      ]
     },
     "execution_count": 62,
     "metadata": {},
     "output_type": "execute_result"
    }
   ],
   "source": [
    "reg_eval(\"RandomForest Regression_1\", y1_train, y1_test, rfr_1_y1_train_pred, rfr_1_y1_test_pred)"
   ]
  },
  {
   "cell_type": "code",
   "execution_count": 63,
   "metadata": {
    "id": "02eyubEbPLrF"
   },
   "outputs": [
    {
     "data": {
      "text/html": [
       "<div>\n",
       "<style scoped>\n",
       "    .dataframe tbody tr th:only-of-type {\n",
       "        vertical-align: middle;\n",
       "    }\n",
       "\n",
       "    .dataframe tbody tr th {\n",
       "        vertical-align: top;\n",
       "    }\n",
       "\n",
       "    .dataframe thead th {\n",
       "        text-align: right;\n",
       "    }\n",
       "</style>\n",
       "<table border=\"1\" class=\"dataframe\">\n",
       "  <thead>\n",
       "    <tr style=\"text-align: right;\">\n",
       "      <th></th>\n",
       "      <th></th>\n",
       "      <th>MSE</th>\n",
       "      <th>RMSE</th>\n",
       "      <th>R2_score</th>\n",
       "    </tr>\n",
       "  </thead>\n",
       "  <tbody>\n",
       "    <tr>\n",
       "      <th rowspan=\"2\" valign=\"top\">RandomForest Regression_2</th>\n",
       "      <th>Train</th>\n",
       "      <td>2.969828e+06</td>\n",
       "      <td>8.819880e+12</td>\n",
       "      <td>0.876831</td>\n",
       "    </tr>\n",
       "    <tr>\n",
       "      <th>Test</th>\n",
       "      <td>7.847884e+06</td>\n",
       "      <td>6.158929e+13</td>\n",
       "      <td>0.676727</td>\n",
       "    </tr>\n",
       "  </tbody>\n",
       "</table>\n",
       "</div>"
      ],
      "text/plain": [
       "                                          MSE          RMSE  R2_score\n",
       "RandomForest Regression_2 Train  2.969828e+06  8.819880e+12  0.876831\n",
       "                          Test   7.847884e+06  6.158929e+13  0.676727"
      ]
     },
     "execution_count": 63,
     "metadata": {},
     "output_type": "execute_result"
    }
   ],
   "source": [
    "reg_eval(\"RandomForest Regression_2\", y2_train, y2_test, rfr_2_y2_train_pred, rfr_2_y2_test_pred)"
   ]
  },
  {
   "cell_type": "code",
   "execution_count": 64,
   "metadata": {
    "id": "8amH-cFnPLle"
   },
   "outputs": [
    {
     "data": {
      "text/html": [
       "<div>\n",
       "<style scoped>\n",
       "    .dataframe tbody tr th:only-of-type {\n",
       "        vertical-align: middle;\n",
       "    }\n",
       "\n",
       "    .dataframe tbody tr th {\n",
       "        vertical-align: top;\n",
       "    }\n",
       "\n",
       "    .dataframe thead th {\n",
       "        text-align: right;\n",
       "    }\n",
       "</style>\n",
       "<table border=\"1\" class=\"dataframe\">\n",
       "  <thead>\n",
       "    <tr style=\"text-align: right;\">\n",
       "      <th></th>\n",
       "      <th></th>\n",
       "      <th>MSE</th>\n",
       "      <th>RMSE</th>\n",
       "      <th>R2_score</th>\n",
       "    </tr>\n",
       "  </thead>\n",
       "  <tbody>\n",
       "    <tr>\n",
       "      <th rowspan=\"2\" valign=\"top\">RandomForest Regression_3</th>\n",
       "      <th>Train</th>\n",
       "      <td>5.590047e+06</td>\n",
       "      <td>3.124863e+13</td>\n",
       "      <td>0.783699</td>\n",
       "    </tr>\n",
       "    <tr>\n",
       "      <th>Test</th>\n",
       "      <td>1.283541e+07</td>\n",
       "      <td>1.647476e+14</td>\n",
       "      <td>0.501943</td>\n",
       "    </tr>\n",
       "  </tbody>\n",
       "</table>\n",
       "</div>"
      ],
      "text/plain": [
       "                                          MSE          RMSE  R2_score\n",
       "RandomForest Regression_3 Train  5.590047e+06  3.124863e+13  0.783699\n",
       "                          Test   1.283541e+07  1.647476e+14  0.501943"
      ]
     },
     "execution_count": 64,
     "metadata": {},
     "output_type": "execute_result"
    }
   ],
   "source": [
    "reg_eval(\"RandomForest Regression_3\", y3_train, y3_test, rfr_3_y3_train_pred, rfr_3_y3_test_pred)"
   ]
  },
  {
   "cell_type": "markdown",
   "metadata": {
    "id": "UoWejOleQV7Z"
   },
   "source": [
    "## AdaBoost"
   ]
  },
  {
   "cell_type": "code",
   "execution_count": 65,
   "metadata": {
    "id": "qRMdYwPrPLSx"
   },
   "outputs": [],
   "source": [
    "abr_1 = AdaBoostRegressor()\n",
    "abr_2 = AdaBoostRegressor()\n",
    "abr_3 = AdaBoostRegressor()"
   ]
  },
  {
   "cell_type": "code",
   "execution_count": 66,
   "metadata": {
    "id": "WLl74lwNPLPK"
   },
   "outputs": [
    {
     "data": {
      "text/html": [
       "<style>#sk-container-id-4 {color: black;}#sk-container-id-4 pre{padding: 0;}#sk-container-id-4 div.sk-toggleable {background-color: white;}#sk-container-id-4 label.sk-toggleable__label {cursor: pointer;display: block;width: 100%;margin-bottom: 0;padding: 0.3em;box-sizing: border-box;text-align: center;}#sk-container-id-4 label.sk-toggleable__label-arrow:before {content: \"▸\";float: left;margin-right: 0.25em;color: #696969;}#sk-container-id-4 label.sk-toggleable__label-arrow:hover:before {color: black;}#sk-container-id-4 div.sk-estimator:hover label.sk-toggleable__label-arrow:before {color: black;}#sk-container-id-4 div.sk-toggleable__content {max-height: 0;max-width: 0;overflow: hidden;text-align: left;background-color: #f0f8ff;}#sk-container-id-4 div.sk-toggleable__content pre {margin: 0.2em;color: black;border-radius: 0.25em;background-color: #f0f8ff;}#sk-container-id-4 input.sk-toggleable__control:checked~div.sk-toggleable__content {max-height: 200px;max-width: 100%;overflow: auto;}#sk-container-id-4 input.sk-toggleable__control:checked~label.sk-toggleable__label-arrow:before {content: \"▾\";}#sk-container-id-4 div.sk-estimator input.sk-toggleable__control:checked~label.sk-toggleable__label {background-color: #d4ebff;}#sk-container-id-4 div.sk-label input.sk-toggleable__control:checked~label.sk-toggleable__label {background-color: #d4ebff;}#sk-container-id-4 input.sk-hidden--visually {border: 0;clip: rect(1px 1px 1px 1px);clip: rect(1px, 1px, 1px, 1px);height: 1px;margin: -1px;overflow: hidden;padding: 0;position: absolute;width: 1px;}#sk-container-id-4 div.sk-estimator {font-family: monospace;background-color: #f0f8ff;border: 1px dotted black;border-radius: 0.25em;box-sizing: border-box;margin-bottom: 0.5em;}#sk-container-id-4 div.sk-estimator:hover {background-color: #d4ebff;}#sk-container-id-4 div.sk-parallel-item::after {content: \"\";width: 100%;border-bottom: 1px solid gray;flex-grow: 1;}#sk-container-id-4 div.sk-label:hover label.sk-toggleable__label {background-color: #d4ebff;}#sk-container-id-4 div.sk-serial::before {content: \"\";position: absolute;border-left: 1px solid gray;box-sizing: border-box;top: 0;bottom: 0;left: 50%;z-index: 0;}#sk-container-id-4 div.sk-serial {display: flex;flex-direction: column;align-items: center;background-color: white;padding-right: 0.2em;padding-left: 0.2em;position: relative;}#sk-container-id-4 div.sk-item {position: relative;z-index: 1;}#sk-container-id-4 div.sk-parallel {display: flex;align-items: stretch;justify-content: center;background-color: white;position: relative;}#sk-container-id-4 div.sk-item::before, #sk-container-id-4 div.sk-parallel-item::before {content: \"\";position: absolute;border-left: 1px solid gray;box-sizing: border-box;top: 0;bottom: 0;left: 50%;z-index: -1;}#sk-container-id-4 div.sk-parallel-item {display: flex;flex-direction: column;z-index: 1;position: relative;background-color: white;}#sk-container-id-4 div.sk-parallel-item:first-child::after {align-self: flex-end;width: 50%;}#sk-container-id-4 div.sk-parallel-item:last-child::after {align-self: flex-start;width: 50%;}#sk-container-id-4 div.sk-parallel-item:only-child::after {width: 0;}#sk-container-id-4 div.sk-dashed-wrapped {border: 1px dashed gray;margin: 0 0.4em 0.5em 0.4em;box-sizing: border-box;padding-bottom: 0.4em;background-color: white;}#sk-container-id-4 div.sk-label label {font-family: monospace;font-weight: bold;display: inline-block;line-height: 1.2em;}#sk-container-id-4 div.sk-label-container {text-align: center;}#sk-container-id-4 div.sk-container {/* jupyter's `normalize.less` sets `[hidden] { display: none; }` but bootstrap.min.css set `[hidden] { display: none !important; }` so we also need the `!important` here to be able to override the default hidden behavior on the sphinx rendered scikit-learn.org. See: https://github.com/scikit-learn/scikit-learn/issues/21755 */display: inline-block !important;position: relative;}#sk-container-id-4 div.sk-text-repr-fallback {display: none;}</style><div id=\"sk-container-id-4\" class=\"sk-top-container\"><div class=\"sk-text-repr-fallback\"><pre>AdaBoostRegressor()</pre><b>In a Jupyter environment, please rerun this cell to show the HTML representation or trust the notebook. <br />On GitHub, the HTML representation is unable to render, please try loading this page with nbviewer.org.</b></div><div class=\"sk-container\" hidden><div class=\"sk-item\"><div class=\"sk-estimator sk-toggleable\"><input class=\"sk-toggleable__control sk-hidden--visually\" id=\"sk-estimator-id-4\" type=\"checkbox\" checked><label for=\"sk-estimator-id-4\" class=\"sk-toggleable__label sk-toggleable__label-arrow\">AdaBoostRegressor</label><div class=\"sk-toggleable__content\"><pre>AdaBoostRegressor()</pre></div></div></div></div></div>"
      ],
      "text/plain": [
       "AdaBoostRegressor()"
      ]
     },
     "execution_count": 66,
     "metadata": {},
     "output_type": "execute_result"
    }
   ],
   "source": [
    "abr_1.fit(x1_train,y1_train)\n",
    "abr_2.fit(x2_train,y2_train)\n",
    "abr_3.fit(x3_train,y3_train)"
   ]
  },
  {
   "cell_type": "code",
   "execution_count": 67,
   "metadata": {
    "id": "gZUIRWsoPLLI"
   },
   "outputs": [],
   "source": [
    "abr_1_y1_train_pred = abr_1.predict(x1_train)\n",
    "abr_2_y2_train_pred = abr_2.predict(x2_train)\n",
    "abr_3_y3_train_pred = abr_3.predict(x3_train)"
   ]
  },
  {
   "cell_type": "code",
   "execution_count": 68,
   "metadata": {
    "id": "uts33-w7PLFq"
   },
   "outputs": [],
   "source": [
    "abr_1_y1_test_pred = abr_1.predict(x1_test)\n",
    "abr_2_y2_test_pred = abr_2.predict(x2_test)\n",
    "abr_3_y3_test_pred = abr_3.predict(x3_test)"
   ]
  },
  {
   "cell_type": "code",
   "execution_count": 69,
   "metadata": {
    "id": "jDF8qQBvQtDC"
   },
   "outputs": [
    {
     "data": {
      "text/html": [
       "<div>\n",
       "<style scoped>\n",
       "    .dataframe tbody tr th:only-of-type {\n",
       "        vertical-align: middle;\n",
       "    }\n",
       "\n",
       "    .dataframe tbody tr th {\n",
       "        vertical-align: top;\n",
       "    }\n",
       "\n",
       "    .dataframe thead th {\n",
       "        text-align: right;\n",
       "    }\n",
       "</style>\n",
       "<table border=\"1\" class=\"dataframe\">\n",
       "  <thead>\n",
       "    <tr style=\"text-align: right;\">\n",
       "      <th></th>\n",
       "      <th></th>\n",
       "      <th>MSE</th>\n",
       "      <th>RMSE</th>\n",
       "      <th>R2_score</th>\n",
       "    </tr>\n",
       "  </thead>\n",
       "  <tbody>\n",
       "    <tr>\n",
       "      <th rowspan=\"2\" valign=\"top\">AdaBoost Regression_1</th>\n",
       "      <th>Train</th>\n",
       "      <td>7.897642e+06</td>\n",
       "      <td>6.237276e+13</td>\n",
       "      <td>0.538990</td>\n",
       "    </tr>\n",
       "    <tr>\n",
       "      <th>Test</th>\n",
       "      <td>7.890867e+06</td>\n",
       "      <td>6.226579e+13</td>\n",
       "      <td>0.543201</td>\n",
       "    </tr>\n",
       "  </tbody>\n",
       "</table>\n",
       "</div>"
      ],
      "text/plain": [
       "                                      MSE          RMSE  R2_score\n",
       "AdaBoost Regression_1 Train  7.897642e+06  6.237276e+13  0.538990\n",
       "                      Test   7.890867e+06  6.226579e+13  0.543201"
      ]
     },
     "execution_count": 69,
     "metadata": {},
     "output_type": "execute_result"
    }
   ],
   "source": [
    "reg_eval(\"AdaBoost Regression_1\", y1_train, y1_test, abr_1_y1_train_pred, abr_1_y1_test_pred)"
   ]
  },
  {
   "cell_type": "code",
   "execution_count": 70,
   "metadata": {
    "id": "RgtE_H3sQs43"
   },
   "outputs": [
    {
     "data": {
      "text/html": [
       "<div>\n",
       "<style scoped>\n",
       "    .dataframe tbody tr th:only-of-type {\n",
       "        vertical-align: middle;\n",
       "    }\n",
       "\n",
       "    .dataframe tbody tr th {\n",
       "        vertical-align: top;\n",
       "    }\n",
       "\n",
       "    .dataframe thead th {\n",
       "        text-align: right;\n",
       "    }\n",
       "</style>\n",
       "<table border=\"1\" class=\"dataframe\">\n",
       "  <thead>\n",
       "    <tr style=\"text-align: right;\">\n",
       "      <th></th>\n",
       "      <th></th>\n",
       "      <th>MSE</th>\n",
       "      <th>RMSE</th>\n",
       "      <th>R2_score</th>\n",
       "    </tr>\n",
       "  </thead>\n",
       "  <tbody>\n",
       "    <tr>\n",
       "      <th rowspan=\"2\" valign=\"top\">AdaBoost Regression_2</th>\n",
       "      <th>Train</th>\n",
       "      <td>1.117220e+07</td>\n",
       "      <td>1.248180e+14</td>\n",
       "      <td>0.536649</td>\n",
       "    </tr>\n",
       "    <tr>\n",
       "      <th>Test</th>\n",
       "      <td>1.122554e+07</td>\n",
       "      <td>1.260127e+14</td>\n",
       "      <td>0.537593</td>\n",
       "    </tr>\n",
       "  </tbody>\n",
       "</table>\n",
       "</div>"
      ],
      "text/plain": [
       "                                      MSE          RMSE  R2_score\n",
       "AdaBoost Regression_2 Train  1.117220e+07  1.248180e+14  0.536649\n",
       "                      Test   1.122554e+07  1.260127e+14  0.537593"
      ]
     },
     "execution_count": 70,
     "metadata": {},
     "output_type": "execute_result"
    }
   ],
   "source": [
    "reg_eval(\"AdaBoost Regression_2\", y2_train, y2_test, abr_2_y2_train_pred, abr_2_y2_test_pred)"
   ]
  },
  {
   "cell_type": "code",
   "execution_count": 71,
   "metadata": {
    "id": "4kzX5YMGQsxM"
   },
   "outputs": [
    {
     "data": {
      "text/html": [
       "<div>\n",
       "<style scoped>\n",
       "    .dataframe tbody tr th:only-of-type {\n",
       "        vertical-align: middle;\n",
       "    }\n",
       "\n",
       "    .dataframe tbody tr th {\n",
       "        vertical-align: top;\n",
       "    }\n",
       "\n",
       "    .dataframe thead th {\n",
       "        text-align: right;\n",
       "    }\n",
       "</style>\n",
       "<table border=\"1\" class=\"dataframe\">\n",
       "  <thead>\n",
       "    <tr style=\"text-align: right;\">\n",
       "      <th></th>\n",
       "      <th></th>\n",
       "      <th>MSE</th>\n",
       "      <th>RMSE</th>\n",
       "      <th>R2_score</th>\n",
       "    </tr>\n",
       "  </thead>\n",
       "  <tbody>\n",
       "    <tr>\n",
       "      <th rowspan=\"2\" valign=\"top\">AdaBoost Regression_3</th>\n",
       "      <th>Train</th>\n",
       "      <td>1.457375e+07</td>\n",
       "      <td>2.123941e+14</td>\n",
       "      <td>0.436083</td>\n",
       "    </tr>\n",
       "    <tr>\n",
       "      <th>Test</th>\n",
       "      <td>1.450735e+07</td>\n",
       "      <td>2.104632e+14</td>\n",
       "      <td>0.437065</td>\n",
       "    </tr>\n",
       "  </tbody>\n",
       "</table>\n",
       "</div>"
      ],
      "text/plain": [
       "                                      MSE          RMSE  R2_score\n",
       "AdaBoost Regression_3 Train  1.457375e+07  2.123941e+14  0.436083\n",
       "                      Test   1.450735e+07  2.104632e+14  0.437065"
      ]
     },
     "execution_count": 71,
     "metadata": {},
     "output_type": "execute_result"
    }
   ],
   "source": [
    "reg_eval(\"AdaBoost Regression_3\", y3_train, y3_test, abr_3_y3_train_pred, abr_3_y3_test_pred)"
   ]
  },
  {
   "cell_type": "markdown",
   "metadata": {
    "id": "uqXRezo0CcqZ"
   },
   "source": [
    "## GradientBoost"
   ]
  },
  {
   "cell_type": "code",
   "execution_count": 72,
   "metadata": {
    "id": "VvpE7htdBwcD"
   },
   "outputs": [],
   "source": [
    "gbr_1 = GradientBoostingRegressor()\n",
    "gbr_2 = GradientBoostingRegressor()\n",
    "gbr_3 = GradientBoostingRegressor()"
   ]
  },
  {
   "cell_type": "code",
   "execution_count": 73,
   "metadata": {
    "id": "TjD_gZCoCmQs"
   },
   "outputs": [
    {
     "data": {
      "text/html": [
       "<style>#sk-container-id-5 {color: black;}#sk-container-id-5 pre{padding: 0;}#sk-container-id-5 div.sk-toggleable {background-color: white;}#sk-container-id-5 label.sk-toggleable__label {cursor: pointer;display: block;width: 100%;margin-bottom: 0;padding: 0.3em;box-sizing: border-box;text-align: center;}#sk-container-id-5 label.sk-toggleable__label-arrow:before {content: \"▸\";float: left;margin-right: 0.25em;color: #696969;}#sk-container-id-5 label.sk-toggleable__label-arrow:hover:before {color: black;}#sk-container-id-5 div.sk-estimator:hover label.sk-toggleable__label-arrow:before {color: black;}#sk-container-id-5 div.sk-toggleable__content {max-height: 0;max-width: 0;overflow: hidden;text-align: left;background-color: #f0f8ff;}#sk-container-id-5 div.sk-toggleable__content pre {margin: 0.2em;color: black;border-radius: 0.25em;background-color: #f0f8ff;}#sk-container-id-5 input.sk-toggleable__control:checked~div.sk-toggleable__content {max-height: 200px;max-width: 100%;overflow: auto;}#sk-container-id-5 input.sk-toggleable__control:checked~label.sk-toggleable__label-arrow:before {content: \"▾\";}#sk-container-id-5 div.sk-estimator input.sk-toggleable__control:checked~label.sk-toggleable__label {background-color: #d4ebff;}#sk-container-id-5 div.sk-label input.sk-toggleable__control:checked~label.sk-toggleable__label {background-color: #d4ebff;}#sk-container-id-5 input.sk-hidden--visually {border: 0;clip: rect(1px 1px 1px 1px);clip: rect(1px, 1px, 1px, 1px);height: 1px;margin: -1px;overflow: hidden;padding: 0;position: absolute;width: 1px;}#sk-container-id-5 div.sk-estimator {font-family: monospace;background-color: #f0f8ff;border: 1px dotted black;border-radius: 0.25em;box-sizing: border-box;margin-bottom: 0.5em;}#sk-container-id-5 div.sk-estimator:hover {background-color: #d4ebff;}#sk-container-id-5 div.sk-parallel-item::after {content: \"\";width: 100%;border-bottom: 1px solid gray;flex-grow: 1;}#sk-container-id-5 div.sk-label:hover label.sk-toggleable__label {background-color: #d4ebff;}#sk-container-id-5 div.sk-serial::before {content: \"\";position: absolute;border-left: 1px solid gray;box-sizing: border-box;top: 0;bottom: 0;left: 50%;z-index: 0;}#sk-container-id-5 div.sk-serial {display: flex;flex-direction: column;align-items: center;background-color: white;padding-right: 0.2em;padding-left: 0.2em;position: relative;}#sk-container-id-5 div.sk-item {position: relative;z-index: 1;}#sk-container-id-5 div.sk-parallel {display: flex;align-items: stretch;justify-content: center;background-color: white;position: relative;}#sk-container-id-5 div.sk-item::before, #sk-container-id-5 div.sk-parallel-item::before {content: \"\";position: absolute;border-left: 1px solid gray;box-sizing: border-box;top: 0;bottom: 0;left: 50%;z-index: -1;}#sk-container-id-5 div.sk-parallel-item {display: flex;flex-direction: column;z-index: 1;position: relative;background-color: white;}#sk-container-id-5 div.sk-parallel-item:first-child::after {align-self: flex-end;width: 50%;}#sk-container-id-5 div.sk-parallel-item:last-child::after {align-self: flex-start;width: 50%;}#sk-container-id-5 div.sk-parallel-item:only-child::after {width: 0;}#sk-container-id-5 div.sk-dashed-wrapped {border: 1px dashed gray;margin: 0 0.4em 0.5em 0.4em;box-sizing: border-box;padding-bottom: 0.4em;background-color: white;}#sk-container-id-5 div.sk-label label {font-family: monospace;font-weight: bold;display: inline-block;line-height: 1.2em;}#sk-container-id-5 div.sk-label-container {text-align: center;}#sk-container-id-5 div.sk-container {/* jupyter's `normalize.less` sets `[hidden] { display: none; }` but bootstrap.min.css set `[hidden] { display: none !important; }` so we also need the `!important` here to be able to override the default hidden behavior on the sphinx rendered scikit-learn.org. See: https://github.com/scikit-learn/scikit-learn/issues/21755 */display: inline-block !important;position: relative;}#sk-container-id-5 div.sk-text-repr-fallback {display: none;}</style><div id=\"sk-container-id-5\" class=\"sk-top-container\"><div class=\"sk-text-repr-fallback\"><pre>GradientBoostingRegressor()</pre><b>In a Jupyter environment, please rerun this cell to show the HTML representation or trust the notebook. <br />On GitHub, the HTML representation is unable to render, please try loading this page with nbviewer.org.</b></div><div class=\"sk-container\" hidden><div class=\"sk-item\"><div class=\"sk-estimator sk-toggleable\"><input class=\"sk-toggleable__control sk-hidden--visually\" id=\"sk-estimator-id-5\" type=\"checkbox\" checked><label for=\"sk-estimator-id-5\" class=\"sk-toggleable__label sk-toggleable__label-arrow\">GradientBoostingRegressor</label><div class=\"sk-toggleable__content\"><pre>GradientBoostingRegressor()</pre></div></div></div></div></div>"
      ],
      "text/plain": [
       "GradientBoostingRegressor()"
      ]
     },
     "execution_count": 73,
     "metadata": {},
     "output_type": "execute_result"
    }
   ],
   "source": [
    "gbr_1.fit(x1_train,y1_train)\n",
    "gbr_2.fit(x2_train,y2_train)\n",
    "gbr_3.fit(x3_train,y3_train)"
   ]
  },
  {
   "cell_type": "code",
   "execution_count": 74,
   "metadata": {
    "id": "Gtob_oaDCmEa"
   },
   "outputs": [],
   "source": [
    "gbr_1_y1_train_pred = gbr_1.predict(x1_train)\n",
    "gbr_2_y2_train_pred = gbr_2.predict(x2_train)\n",
    "gbr_3_y3_train_pred = gbr_3.predict(x3_train)"
   ]
  },
  {
   "cell_type": "code",
   "execution_count": 75,
   "metadata": {
    "id": "rkhxmdcTCl5P"
   },
   "outputs": [],
   "source": [
    "gbr_1_y1_test_pred = gbr_1.predict(x1_test)\n",
    "gbr_2_y2_test_pred = gbr_2.predict(x2_test)\n",
    "gbr_3_y3_test_pred = gbr_3.predict(x3_test)"
   ]
  },
  {
   "cell_type": "code",
   "execution_count": 76,
   "metadata": {
    "id": "XtRwF_ELClpM"
   },
   "outputs": [
    {
     "data": {
      "text/html": [
       "<div>\n",
       "<style scoped>\n",
       "    .dataframe tbody tr th:only-of-type {\n",
       "        vertical-align: middle;\n",
       "    }\n",
       "\n",
       "    .dataframe tbody tr th {\n",
       "        vertical-align: top;\n",
       "    }\n",
       "\n",
       "    .dataframe thead th {\n",
       "        text-align: right;\n",
       "    }\n",
       "</style>\n",
       "<table border=\"1\" class=\"dataframe\">\n",
       "  <thead>\n",
       "    <tr style=\"text-align: right;\">\n",
       "      <th></th>\n",
       "      <th></th>\n",
       "      <th>MSE</th>\n",
       "      <th>RMSE</th>\n",
       "      <th>R2_score</th>\n",
       "    </tr>\n",
       "  </thead>\n",
       "  <tbody>\n",
       "    <tr>\n",
       "      <th rowspan=\"2\" valign=\"top\">GradientBoostingRegressor_1</th>\n",
       "      <th>Train</th>\n",
       "      <td>5.281385e+06</td>\n",
       "      <td>2.789302e+13</td>\n",
       "      <td>0.691709</td>\n",
       "    </tr>\n",
       "    <tr>\n",
       "      <th>Test</th>\n",
       "      <td>5.279257e+06</td>\n",
       "      <td>2.787056e+13</td>\n",
       "      <td>0.694386</td>\n",
       "    </tr>\n",
       "  </tbody>\n",
       "</table>\n",
       "</div>"
      ],
      "text/plain": [
       "                                            MSE          RMSE  R2_score\n",
       "GradientBoostingRegressor_1 Train  5.281385e+06  2.789302e+13  0.691709\n",
       "                            Test   5.279257e+06  2.787056e+13  0.694386"
      ]
     },
     "execution_count": 76,
     "metadata": {},
     "output_type": "execute_result"
    }
   ],
   "source": [
    "reg_eval(\"GradientBoostingRegressor_1\", y1_train, y1_test, gbr_1_y1_train_pred, gbr_1_y1_test_pred)"
   ]
  },
  {
   "cell_type": "code",
   "execution_count": 77,
   "metadata": {
    "id": "YSvbn3NSCldL"
   },
   "outputs": [
    {
     "data": {
      "text/html": [
       "<div>\n",
       "<style scoped>\n",
       "    .dataframe tbody tr th:only-of-type {\n",
       "        vertical-align: middle;\n",
       "    }\n",
       "\n",
       "    .dataframe tbody tr th {\n",
       "        vertical-align: top;\n",
       "    }\n",
       "\n",
       "    .dataframe thead th {\n",
       "        text-align: right;\n",
       "    }\n",
       "</style>\n",
       "<table border=\"1\" class=\"dataframe\">\n",
       "  <thead>\n",
       "    <tr style=\"text-align: right;\">\n",
       "      <th></th>\n",
       "      <th></th>\n",
       "      <th>MSE</th>\n",
       "      <th>RMSE</th>\n",
       "      <th>R2_score</th>\n",
       "    </tr>\n",
       "  </thead>\n",
       "  <tbody>\n",
       "    <tr>\n",
       "      <th rowspan=\"2\" valign=\"top\">GradientBoostingRegressor_2</th>\n",
       "      <th>Train</th>\n",
       "      <td>7.022275e+06</td>\n",
       "      <td>4.931235e+13</td>\n",
       "      <td>0.708761</td>\n",
       "    </tr>\n",
       "    <tr>\n",
       "      <th>Test</th>\n",
       "      <td>7.094700e+06</td>\n",
       "      <td>5.033477e+13</td>\n",
       "      <td>0.707752</td>\n",
       "    </tr>\n",
       "  </tbody>\n",
       "</table>\n",
       "</div>"
      ],
      "text/plain": [
       "                                            MSE          RMSE  R2_score\n",
       "GradientBoostingRegressor_2 Train  7.022275e+06  4.931235e+13  0.708761\n",
       "                            Test   7.094700e+06  5.033477e+13  0.707752"
      ]
     },
     "execution_count": 77,
     "metadata": {},
     "output_type": "execute_result"
    }
   ],
   "source": [
    "reg_eval(\"GradientBoostingRegressor_2\", y2_train, y2_test, gbr_2_y2_train_pred, gbr_2_y2_test_pred)"
   ]
  },
  {
   "cell_type": "code",
   "execution_count": 78,
   "metadata": {
    "id": "iSLYQp0mC7yI"
   },
   "outputs": [
    {
     "data": {
      "text/html": [
       "<div>\n",
       "<style scoped>\n",
       "    .dataframe tbody tr th:only-of-type {\n",
       "        vertical-align: middle;\n",
       "    }\n",
       "\n",
       "    .dataframe tbody tr th {\n",
       "        vertical-align: top;\n",
       "    }\n",
       "\n",
       "    .dataframe thead th {\n",
       "        text-align: right;\n",
       "    }\n",
       "</style>\n",
       "<table border=\"1\" class=\"dataframe\">\n",
       "  <thead>\n",
       "    <tr style=\"text-align: right;\">\n",
       "      <th></th>\n",
       "      <th></th>\n",
       "      <th>MSE</th>\n",
       "      <th>RMSE</th>\n",
       "      <th>R2_score</th>\n",
       "    </tr>\n",
       "  </thead>\n",
       "  <tbody>\n",
       "    <tr>\n",
       "      <th rowspan=\"2\" valign=\"top\">GradientBoostingRegressor_3</th>\n",
       "      <th>Train</th>\n",
       "      <td>1.141840e+07</td>\n",
       "      <td>1.303799e+14</td>\n",
       "      <td>0.558176</td>\n",
       "    </tr>\n",
       "    <tr>\n",
       "      <th>Test</th>\n",
       "      <td>1.143767e+07</td>\n",
       "      <td>1.308203e+14</td>\n",
       "      <td>0.556179</td>\n",
       "    </tr>\n",
       "  </tbody>\n",
       "</table>\n",
       "</div>"
      ],
      "text/plain": [
       "                                            MSE          RMSE  R2_score\n",
       "GradientBoostingRegressor_3 Train  1.141840e+07  1.303799e+14  0.558176\n",
       "                            Test   1.143767e+07  1.308203e+14  0.556179"
      ]
     },
     "execution_count": 78,
     "metadata": {},
     "output_type": "execute_result"
    }
   ],
   "source": [
    "reg_eval(\"GradientBoostingRegressor_3\", y3_train, y3_test, gbr_3_y3_train_pred, gbr_3_y3_test_pred)"
   ]
  },
  {
   "cell_type": "markdown",
   "metadata": {
    "id": "bVgxc3j-RawD"
   },
   "source": [
    "## xgboost"
   ]
  },
  {
   "cell_type": "code",
   "execution_count": 79,
   "metadata": {
    "id": "AhpT5IjzRWTy"
   },
   "outputs": [],
   "source": [
    "xgbr_1 = XGBRegressor()\n",
    "xgbr_2 = XGBRegressor()\n",
    "xgbr_3 = XGBRegressor()"
   ]
  },
  {
   "cell_type": "code",
   "execution_count": 80,
   "metadata": {
    "id": "oi1c0-UVRWPX"
   },
   "outputs": [
    {
     "data": {
      "text/html": [
       "<style>#sk-container-id-6 {color: black;}#sk-container-id-6 pre{padding: 0;}#sk-container-id-6 div.sk-toggleable {background-color: white;}#sk-container-id-6 label.sk-toggleable__label {cursor: pointer;display: block;width: 100%;margin-bottom: 0;padding: 0.3em;box-sizing: border-box;text-align: center;}#sk-container-id-6 label.sk-toggleable__label-arrow:before {content: \"▸\";float: left;margin-right: 0.25em;color: #696969;}#sk-container-id-6 label.sk-toggleable__label-arrow:hover:before {color: black;}#sk-container-id-6 div.sk-estimator:hover label.sk-toggleable__label-arrow:before {color: black;}#sk-container-id-6 div.sk-toggleable__content {max-height: 0;max-width: 0;overflow: hidden;text-align: left;background-color: #f0f8ff;}#sk-container-id-6 div.sk-toggleable__content pre {margin: 0.2em;color: black;border-radius: 0.25em;background-color: #f0f8ff;}#sk-container-id-6 input.sk-toggleable__control:checked~div.sk-toggleable__content {max-height: 200px;max-width: 100%;overflow: auto;}#sk-container-id-6 input.sk-toggleable__control:checked~label.sk-toggleable__label-arrow:before {content: \"▾\";}#sk-container-id-6 div.sk-estimator input.sk-toggleable__control:checked~label.sk-toggleable__label {background-color: #d4ebff;}#sk-container-id-6 div.sk-label input.sk-toggleable__control:checked~label.sk-toggleable__label {background-color: #d4ebff;}#sk-container-id-6 input.sk-hidden--visually {border: 0;clip: rect(1px 1px 1px 1px);clip: rect(1px, 1px, 1px, 1px);height: 1px;margin: -1px;overflow: hidden;padding: 0;position: absolute;width: 1px;}#sk-container-id-6 div.sk-estimator {font-family: monospace;background-color: #f0f8ff;border: 1px dotted black;border-radius: 0.25em;box-sizing: border-box;margin-bottom: 0.5em;}#sk-container-id-6 div.sk-estimator:hover {background-color: #d4ebff;}#sk-container-id-6 div.sk-parallel-item::after {content: \"\";width: 100%;border-bottom: 1px solid gray;flex-grow: 1;}#sk-container-id-6 div.sk-label:hover label.sk-toggleable__label {background-color: #d4ebff;}#sk-container-id-6 div.sk-serial::before {content: \"\";position: absolute;border-left: 1px solid gray;box-sizing: border-box;top: 0;bottom: 0;left: 50%;z-index: 0;}#sk-container-id-6 div.sk-serial {display: flex;flex-direction: column;align-items: center;background-color: white;padding-right: 0.2em;padding-left: 0.2em;position: relative;}#sk-container-id-6 div.sk-item {position: relative;z-index: 1;}#sk-container-id-6 div.sk-parallel {display: flex;align-items: stretch;justify-content: center;background-color: white;position: relative;}#sk-container-id-6 div.sk-item::before, #sk-container-id-6 div.sk-parallel-item::before {content: \"\";position: absolute;border-left: 1px solid gray;box-sizing: border-box;top: 0;bottom: 0;left: 50%;z-index: -1;}#sk-container-id-6 div.sk-parallel-item {display: flex;flex-direction: column;z-index: 1;position: relative;background-color: white;}#sk-container-id-6 div.sk-parallel-item:first-child::after {align-self: flex-end;width: 50%;}#sk-container-id-6 div.sk-parallel-item:last-child::after {align-self: flex-start;width: 50%;}#sk-container-id-6 div.sk-parallel-item:only-child::after {width: 0;}#sk-container-id-6 div.sk-dashed-wrapped {border: 1px dashed gray;margin: 0 0.4em 0.5em 0.4em;box-sizing: border-box;padding-bottom: 0.4em;background-color: white;}#sk-container-id-6 div.sk-label label {font-family: monospace;font-weight: bold;display: inline-block;line-height: 1.2em;}#sk-container-id-6 div.sk-label-container {text-align: center;}#sk-container-id-6 div.sk-container {/* jupyter's `normalize.less` sets `[hidden] { display: none; }` but bootstrap.min.css set `[hidden] { display: none !important; }` so we also need the `!important` here to be able to override the default hidden behavior on the sphinx rendered scikit-learn.org. See: https://github.com/scikit-learn/scikit-learn/issues/21755 */display: inline-block !important;position: relative;}#sk-container-id-6 div.sk-text-repr-fallback {display: none;}</style><div id=\"sk-container-id-6\" class=\"sk-top-container\"><div class=\"sk-text-repr-fallback\"><pre>XGBRegressor(base_score=None, booster=None, callbacks=None,\n",
       "             colsample_bylevel=None, colsample_bynode=None,\n",
       "             colsample_bytree=None, device=None, early_stopping_rounds=None,\n",
       "             enable_categorical=False, eval_metric=None, feature_types=None,\n",
       "             gamma=None, grow_policy=None, importance_type=None,\n",
       "             interaction_constraints=None, learning_rate=None, max_bin=None,\n",
       "             max_cat_threshold=None, max_cat_to_onehot=None,\n",
       "             max_delta_step=None, max_depth=None, max_leaves=None,\n",
       "             min_child_weight=None, missing=nan, monotone_constraints=None,\n",
       "             multi_strategy=None, n_estimators=None, n_jobs=None,\n",
       "             num_parallel_tree=None, random_state=None, ...)</pre><b>In a Jupyter environment, please rerun this cell to show the HTML representation or trust the notebook. <br />On GitHub, the HTML representation is unable to render, please try loading this page with nbviewer.org.</b></div><div class=\"sk-container\" hidden><div class=\"sk-item\"><div class=\"sk-estimator sk-toggleable\"><input class=\"sk-toggleable__control sk-hidden--visually\" id=\"sk-estimator-id-6\" type=\"checkbox\" checked><label for=\"sk-estimator-id-6\" class=\"sk-toggleable__label sk-toggleable__label-arrow\">XGBRegressor</label><div class=\"sk-toggleable__content\"><pre>XGBRegressor(base_score=None, booster=None, callbacks=None,\n",
       "             colsample_bylevel=None, colsample_bynode=None,\n",
       "             colsample_bytree=None, device=None, early_stopping_rounds=None,\n",
       "             enable_categorical=False, eval_metric=None, feature_types=None,\n",
       "             gamma=None, grow_policy=None, importance_type=None,\n",
       "             interaction_constraints=None, learning_rate=None, max_bin=None,\n",
       "             max_cat_threshold=None, max_cat_to_onehot=None,\n",
       "             max_delta_step=None, max_depth=None, max_leaves=None,\n",
       "             min_child_weight=None, missing=nan, monotone_constraints=None,\n",
       "             multi_strategy=None, n_estimators=None, n_jobs=None,\n",
       "             num_parallel_tree=None, random_state=None, ...)</pre></div></div></div></div></div>"
      ],
      "text/plain": [
       "XGBRegressor(base_score=None, booster=None, callbacks=None,\n",
       "             colsample_bylevel=None, colsample_bynode=None,\n",
       "             colsample_bytree=None, device=None, early_stopping_rounds=None,\n",
       "             enable_categorical=False, eval_metric=None, feature_types=None,\n",
       "             gamma=None, grow_policy=None, importance_type=None,\n",
       "             interaction_constraints=None, learning_rate=None, max_bin=None,\n",
       "             max_cat_threshold=None, max_cat_to_onehot=None,\n",
       "             max_delta_step=None, max_depth=None, max_leaves=None,\n",
       "             min_child_weight=None, missing=nan, monotone_constraints=None,\n",
       "             multi_strategy=None, n_estimators=None, n_jobs=None,\n",
       "             num_parallel_tree=None, random_state=None, ...)"
      ]
     },
     "execution_count": 80,
     "metadata": {},
     "output_type": "execute_result"
    }
   ],
   "source": [
    "xgbr_1.fit(x1_train,y1_train)\n",
    "xgbr_2.fit(x2_train,y2_train)\n",
    "xgbr_3.fit(x3_train,y3_train)"
   ]
  },
  {
   "cell_type": "code",
   "execution_count": 81,
   "metadata": {
    "id": "8k3-GiipRWK4"
   },
   "outputs": [],
   "source": [
    "xgbr_1_y1_train_pred = xgbr_1.predict(x1_train)\n",
    "xgbr_2_y2_train_pred = xgbr_2.predict(x2_train)\n",
    "xgbr_3_y3_train_pred = xgbr_3.predict(x3_train)"
   ]
  },
  {
   "cell_type": "code",
   "execution_count": 82,
   "metadata": {
    "id": "qxUDaq_uRWGN"
   },
   "outputs": [],
   "source": [
    "xgbr_1_y1_test_pred = xgbr_1.predict(x1_test)\n",
    "xgbr_2_y2_test_pred = xgbr_2.predict(x2_test)\n",
    "xgbr_3_y3_test_pred = xgbr_3.predict(x3_test)"
   ]
  },
  {
   "cell_type": "code",
   "execution_count": 83,
   "metadata": {
    "id": "EfKm0iQKQsia"
   },
   "outputs": [
    {
     "data": {
      "text/html": [
       "<div>\n",
       "<style scoped>\n",
       "    .dataframe tbody tr th:only-of-type {\n",
       "        vertical-align: middle;\n",
       "    }\n",
       "\n",
       "    .dataframe tbody tr th {\n",
       "        vertical-align: top;\n",
       "    }\n",
       "\n",
       "    .dataframe thead th {\n",
       "        text-align: right;\n",
       "    }\n",
       "</style>\n",
       "<table border=\"1\" class=\"dataframe\">\n",
       "  <thead>\n",
       "    <tr style=\"text-align: right;\">\n",
       "      <th></th>\n",
       "      <th></th>\n",
       "      <th>MSE</th>\n",
       "      <th>RMSE</th>\n",
       "      <th>R2_score</th>\n",
       "    </tr>\n",
       "  </thead>\n",
       "  <tbody>\n",
       "    <tr>\n",
       "      <th rowspan=\"2\" valign=\"top\">XGBoost Regression_1</th>\n",
       "      <th>Train</th>\n",
       "      <td>4.492482e+06</td>\n",
       "      <td>2.018240e+13</td>\n",
       "      <td>0.73776</td>\n",
       "    </tr>\n",
       "    <tr>\n",
       "      <th>Test</th>\n",
       "      <td>4.888439e+06</td>\n",
       "      <td>2.389684e+13</td>\n",
       "      <td>0.71701</td>\n",
       "    </tr>\n",
       "  </tbody>\n",
       "</table>\n",
       "</div>"
      ],
      "text/plain": [
       "                                     MSE          RMSE  R2_score\n",
       "XGBoost Regression_1 Train  4.492482e+06  2.018240e+13   0.73776\n",
       "                     Test   4.888439e+06  2.389684e+13   0.71701"
      ]
     },
     "execution_count": 83,
     "metadata": {},
     "output_type": "execute_result"
    }
   ],
   "source": [
    "reg_eval(\"XGBoost Regression_1\", y1_train, y1_test, xgbr_1_y1_train_pred, xgbr_1_y1_test_pred)"
   ]
  },
  {
   "cell_type": "code",
   "execution_count": 84,
   "metadata": {
    "id": "pdW-pslISFf0"
   },
   "outputs": [
    {
     "data": {
      "text/html": [
       "<div>\n",
       "<style scoped>\n",
       "    .dataframe tbody tr th:only-of-type {\n",
       "        vertical-align: middle;\n",
       "    }\n",
       "\n",
       "    .dataframe tbody tr th {\n",
       "        vertical-align: top;\n",
       "    }\n",
       "\n",
       "    .dataframe thead th {\n",
       "        text-align: right;\n",
       "    }\n",
       "</style>\n",
       "<table border=\"1\" class=\"dataframe\">\n",
       "  <thead>\n",
       "    <tr style=\"text-align: right;\">\n",
       "      <th></th>\n",
       "      <th></th>\n",
       "      <th>MSE</th>\n",
       "      <th>RMSE</th>\n",
       "      <th>R2_score</th>\n",
       "    </tr>\n",
       "  </thead>\n",
       "  <tbody>\n",
       "    <tr>\n",
       "      <th rowspan=\"2\" valign=\"top\">XGBoost Regression_2</th>\n",
       "      <th>Train</th>\n",
       "      <td>6.004846e+06</td>\n",
       "      <td>3.605818e+13</td>\n",
       "      <td>0.750957</td>\n",
       "    </tr>\n",
       "    <tr>\n",
       "      <th>Test</th>\n",
       "      <td>6.418802e+06</td>\n",
       "      <td>4.120102e+13</td>\n",
       "      <td>0.735594</td>\n",
       "    </tr>\n",
       "  </tbody>\n",
       "</table>\n",
       "</div>"
      ],
      "text/plain": [
       "                                     MSE          RMSE  R2_score\n",
       "XGBoost Regression_2 Train  6.004846e+06  3.605818e+13  0.750957\n",
       "                     Test   6.418802e+06  4.120102e+13  0.735594"
      ]
     },
     "execution_count": 84,
     "metadata": {},
     "output_type": "execute_result"
    }
   ],
   "source": [
    "reg_eval(\"XGBoost Regression_2\", y2_train, y2_test, xgbr_2_y2_train_pred, xgbr_2_y2_test_pred)"
   ]
  },
  {
   "cell_type": "code",
   "execution_count": 85,
   "metadata": {
    "id": "BvIXo2gcSFa-"
   },
   "outputs": [
    {
     "data": {
      "text/html": [
       "<div>\n",
       "<style scoped>\n",
       "    .dataframe tbody tr th:only-of-type {\n",
       "        vertical-align: middle;\n",
       "    }\n",
       "\n",
       "    .dataframe tbody tr th {\n",
       "        vertical-align: top;\n",
       "    }\n",
       "\n",
       "    .dataframe thead th {\n",
       "        text-align: right;\n",
       "    }\n",
       "</style>\n",
       "<table border=\"1\" class=\"dataframe\">\n",
       "  <thead>\n",
       "    <tr style=\"text-align: right;\">\n",
       "      <th></th>\n",
       "      <th></th>\n",
       "      <th>MSE</th>\n",
       "      <th>RMSE</th>\n",
       "      <th>R2_score</th>\n",
       "    </tr>\n",
       "  </thead>\n",
       "  <tbody>\n",
       "    <tr>\n",
       "      <th rowspan=\"2\" valign=\"top\">XGBoost Regression_3</th>\n",
       "      <th>Train</th>\n",
       "      <td>9.760469e+06</td>\n",
       "      <td>9.526676e+13</td>\n",
       "      <td>0.622328</td>\n",
       "    </tr>\n",
       "    <tr>\n",
       "      <th>Test</th>\n",
       "      <td>1.031013e+07</td>\n",
       "      <td>1.062987e+14</td>\n",
       "      <td>0.599932</td>\n",
       "    </tr>\n",
       "  </tbody>\n",
       "</table>\n",
       "</div>"
      ],
      "text/plain": [
       "                                     MSE          RMSE  R2_score\n",
       "XGBoost Regression_3 Train  9.760469e+06  9.526676e+13  0.622328\n",
       "                     Test   1.031013e+07  1.062987e+14  0.599932"
      ]
     },
     "execution_count": 85,
     "metadata": {},
     "output_type": "execute_result"
    }
   ],
   "source": [
    "reg_eval(\"XGBoost Regression_3\", y3_train, y3_test, xgbr_3_y3_train_pred, xgbr_3_y3_test_pred)"
   ]
  },
  {
   "cell_type": "markdown",
   "metadata": {
    "id": "ZSRYl9GwiYl0"
   },
   "source": [
    "# Hyper Parameter Tunning"
   ]
  },
  {
   "cell_type": "code",
   "execution_count": 86,
   "metadata": {
    "id": "WaAJm2Bh3cc0"
   },
   "outputs": [],
   "source": [
    "from sklearn.model_selection import RandomizedSearchCV"
   ]
  },
  {
   "cell_type": "code",
   "execution_count": 87,
   "metadata": {
    "id": "6SQfUYkZgz_p"
   },
   "outputs": [],
   "source": [
    "def abr_params():\n",
    "    params={\n",
    "        'learning_rate': [1.0,0.01,0.1],\n",
    "        'n_estimators': [250,500,750]\n",
    "    }\n",
    "    return params\n",
    "\n",
    "def gbr_params():\n",
    "    params={\n",
    "        'n_estimators': [250,500,750],\n",
    "        'max_features':['sqrt','log2','None'],\n",
    "        'max_depth': [5,7,10]\n",
    "    }\n",
    "    return params\n",
    "\n",
    "\n",
    "def random_cv(estimator,params):\n",
    "    return RandomizedSearchCV(estimator=estimator,\n",
    "                                       cv=10,n_iter=15,\n",
    "                                       n_jobs=-1,random_state=93,\n",
    "                                       param_distributions=params\n",
    "                                      )"
   ]
  },
  {
   "cell_type": "code",
   "execution_count": 88,
   "metadata": {
    "id": "juP-cKtEiXQJ"
   },
   "outputs": [],
   "source": [
    "ls_1=[\n",
    "    [AdaBoostRegressor(),random_cv(AdaBoostRegressor(),abr_params())],\n",
    "    [GradientBoostingRegressor(),random_cv(GradientBoostingRegressor(),gbr_params())]\n",
    "  ]\n",
    "\n",
    "ls_2 = [\n",
    "    [AdaBoostRegressor(),random_cv(AdaBoostRegressor(),abr_params())],\n",
    "    [GradientBoostingRegressor(),random_cv(GradientBoostingRegressor(),gbr_params())]\n",
    "    ]\n",
    "ls_3 =[\n",
    "     [AdaBoostRegressor(),random_cv(AdaBoostRegressor(),abr_params())],\n",
    "     [GradientBoostingRegressor(),random_cv(GradientBoostingRegressor(),gbr_params())]\n",
    "    ]"
   ]
  },
  {
   "cell_type": "code",
   "execution_count": 89,
   "metadata": {
    "id": "FDgiFp62iW3E"
   },
   "outputs": [
    {
     "name": "stdout",
     "output_type": "stream",
     "text": [
      "Model :  AdaBoostRegressor_1\n",
      "\n",
      "Best Parameter :  {'n_estimators': 250, 'learning_rate': 1.0}\n",
      "\n",
      "Time taken : 2461.20\n",
      "\n",
      "                                                           MSE          RMSE  \\\n",
      "AdaBoostRegressor_product_popularity_score Train  7.915988e+06  6.266287e+13   \n",
      "                                           Test   7.910884e+06  6.258209e+13   \n",
      "\n",
      "                                                  R2_score  \n",
      "AdaBoostRegressor_product_popularity_score Train  0.537919  \n",
      "                                           Test   0.542042  \n",
      "Model :  GradientBoostingRegressor_1\n",
      "\n",
      "Best Parameter :  {'n_estimators': 750, 'max_features': 'sqrt', 'max_depth': 5}\n",
      "\n",
      "Time taken : 5281.34\n",
      "\n",
      "                                                                   MSE  \\\n",
      "GradientBoostingRegressor_product_popularity_score Train  4.544486e+06   \n",
      "                                                   Test   4.853655e+06   \n",
      "\n",
      "                                                                  RMSE  \\\n",
      "GradientBoostingRegressor_product_popularity_score Train  2.065235e+13   \n",
      "                                                   Test   2.355796e+13   \n",
      "\n",
      "                                                          R2_score  \n",
      "GradientBoostingRegressor_product_popularity_score Train  0.734724  \n",
      "                                                   Test   0.719024  \n"
     ]
    }
   ],
   "source": [
    "for model,param in ls_1:\n",
    "    print(\"Model : \",str(model).split('(')[0] +\"_\"+'1')\n",
    "    start=time.time()\n",
    "    param.fit(x1_train,y1_train)\n",
    "    print(\"\\nBest Parameter : \", param.best_params_)\n",
    "    end = time.time()\n",
    "    print(\"\\nTime taken : %.2f\\n\"%(end-start))\n",
    "    model.set_params(**param.best_params_)\n",
    "    model.fit(x1_train,y1_train)\n",
    "    model_y1_train_pred = model.predict(x1_train)\n",
    "    model_y1_test_pred = model.predict(x1_test)\n",
    "    print(reg_eval(str(str(model).split('(')[0] +\"_\"+str(i)), y1_train, y1_test, model_y1_train_pred, model_y1_test_pred))"
   ]
  },
  {
   "cell_type": "code",
   "execution_count": 90,
   "metadata": {
    "id": "6Sx46QCOqyM2"
   },
   "outputs": [
    {
     "name": "stdout",
     "output_type": "stream",
     "text": [
      "Model :  AdaBoostRegressor_2\n",
      "\n",
      "Best Parameter :  {'n_estimators': 250, 'learning_rate': 1.0}\n",
      "\n",
      "Time taken : 4168.39\n",
      "\n",
      "                                                           MSE          RMSE  \\\n",
      "AdaBoostRegressor_product_popularity_score Train  1.045915e+07  1.093937e+14   \n",
      "                                           Test   1.052667e+07  1.108108e+14   \n",
      "\n",
      "                                                  R2_score  \n",
      "AdaBoostRegressor_product_popularity_score Train  0.566221  \n",
      "                                           Test   0.566381  \n",
      "Model :  GradientBoostingRegressor_2\n",
      "\n",
      "Best Parameter :  {'n_estimators': 750, 'max_features': 'log2', 'max_depth': 7}\n",
      "\n",
      "Time taken : 6695.56\n",
      "\n",
      "                                                                   MSE  \\\n",
      "GradientBoostingRegressor_product_popularity_score Train  5.317722e+06   \n",
      "                                                   Test   6.388009e+06   \n",
      "\n",
      "                                                                  RMSE  \\\n",
      "GradientBoostingRegressor_product_popularity_score Train  2.827817e+13   \n",
      "                                                   Test   4.080666e+13   \n",
      "\n",
      "                                                          R2_score  \n",
      "GradientBoostingRegressor_product_popularity_score Train  0.779455  \n",
      "                                                   Test   0.736863  \n"
     ]
    }
   ],
   "source": [
    "for model,param in ls_2:\n",
    "    print(\"Model : \",str(model).split('(')[0] +\"_\"+'2')\n",
    "    start=time.time()\n",
    "    param.fit(x2_train,y2_train)\n",
    "    print(\"\\nBest Parameter : \", param.best_params_)\n",
    "    end = time.time()\n",
    "    print(\"\\nTime taken : %.2f\\n\"%(end-start))\n",
    "    model.set_params(**param.best_params_)\n",
    "    model.fit(x2_train,y2_train)\n",
    "    model_y2_train_pred = model.predict(x2_train)\n",
    "    model_y2_test_pred = model.predict(x2_test)\n",
    "    print(reg_eval(str(str(model).split('(')[0] +\"_\"+str(i)), y2_train, y2_test, model_y2_train_pred, model_y2_test_pred))"
   ]
  },
  {
   "cell_type": "code",
   "execution_count": 91,
   "metadata": {
    "id": "0AqlPVfbqyEb"
   },
   "outputs": [
    {
     "name": "stdout",
     "output_type": "stream",
     "text": [
      "Model :  AdaBoostRegressor_3\n",
      "\n",
      "Best Parameter :  {'n_estimators': 750, 'learning_rate': 0.01}\n",
      "\n",
      "Time taken : 3273.70\n",
      "\n",
      "                                                           MSE          RMSE  \\\n",
      "AdaBoostRegressor_product_popularity_score Train  1.457026e+07  2.122925e+14   \n",
      "                                           Test   1.453629e+07  2.113038e+14   \n",
      "\n",
      "                                                  R2_score  \n",
      "AdaBoostRegressor_product_popularity_score Train  0.436218  \n",
      "                                           Test   0.435942  \n",
      "Model :  GradientBoostingRegressor_3\n",
      "\n",
      "Best Parameter :  {'n_estimators': 750, 'max_features': 'sqrt', 'max_depth': 5}\n",
      "\n",
      "Time taken : 5037.10\n",
      "\n",
      "                                                                   MSE  \\\n",
      "GradientBoostingRegressor_product_popularity_score Train  9.959904e+06   \n",
      "                                                   Test   1.034747e+07   \n",
      "\n",
      "                                                                  RMSE  \\\n",
      "GradientBoostingRegressor_product_popularity_score Train  9.919969e+13   \n",
      "                                                   Test   1.070702e+14   \n",
      "\n",
      "                                                          R2_score  \n",
      "GradientBoostingRegressor_product_popularity_score Train  0.614611  \n",
      "                                                   Test   0.598483  \n"
     ]
    }
   ],
   "source": [
    "+for model,param in ls_3:\n",
    "    print(\"Model : \",str(model).split('(')[0] +\"_\"+'3')\n",
    "    start=time.time()\n",
    "    param.fit(x3_train,y3_train)\n",
    "    print(\"\\nBest Parameter : \", param.best_params_)\n",
    "    end = time.time()\n",
    "    print(\"\\nTime taken : %.2f\\n\"%(end-start))\n",
    "    model.set_params(**param.best_params_)\n",
    "    model.fit(x3_train,y3_train)\n",
    "    model_y3_train_pred = model.predict(x3_train)\n",
    "    model_y3_test_pred = model.predict(x3_test)\n",
    "    print(reg_eval(str(str(model).split('(')[0] +\"_\"+str(i)), y3_train, y3_test, model_y3_train_pred, model_y3_test_pred))"
   ]
  }
 ],
 "metadata": {
  "colab": {
   "provenance": []
  },
  "kernelspec": {
   "display_name": "Python 3",
   "language": "python",
   "name": "python3"
  },
  "language_info": {
   "codemirror_mode": {
    "name": "ipython",
    "version": 3
   },
   "file_extension": ".py",
   "mimetype": "text/x-python",
   "name": "python",
   "nbconvert_exporter": "python",
   "pygments_lexer": "ipython3",
   "version": "3.8.5"
  }
 },
 "nbformat": 4,
 "nbformat_minor": 1
}
